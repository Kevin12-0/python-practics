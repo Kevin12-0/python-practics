{
 "cells": [
  {
   "cell_type": "markdown",
   "metadata": {},
   "source": [
    "# Importra bibliotecas"
   ]
  },
  {
   "cell_type": "code",
   "execution_count": 73,
   "metadata": {},
   "outputs": [],
   "source": [
    "import pandas as pd\n",
    "import numpy as np\n",
    "import os"
   ]
  },
  {
   "cell_type": "markdown",
   "metadata": {},
   "source": [
    "## carga de cvs a df"
   ]
  },
  {
   "cell_type": "code",
   "execution_count": 74,
   "metadata": {},
   "outputs": [],
   "source": [
    "\"\"\" leer el archivo de manera segura \"\"\"\n",
    "\n",
    "file = os.path.join(\"cereal.csv\")"
   ]
  },
  {
   "cell_type": "code",
   "execution_count": 75,
   "metadata": {},
   "outputs": [],
   "source": [
    "\"\"\" convertir el cvs a dataframe \"\"\"\n",
    "DFCereal = pd.read_csv(file)"
   ]
  },
  {
   "cell_type": "code",
   "execution_count": 76,
   "metadata": {},
   "outputs": [
    {
     "data": {
      "text/html": [
       "<div>\n",
       "<style scoped>\n",
       "    .dataframe tbody tr th:only-of-type {\n",
       "        vertical-align: middle;\n",
       "    }\n",
       "\n",
       "    .dataframe tbody tr th {\n",
       "        vertical-align: top;\n",
       "    }\n",
       "\n",
       "    .dataframe thead th {\n",
       "        text-align: right;\n",
       "    }\n",
       "</style>\n",
       "<table border=\"1\" class=\"dataframe\">\n",
       "  <thead>\n",
       "    <tr style=\"text-align: right;\">\n",
       "      <th></th>\n",
       "      <th>Cereal Name</th>\n",
       "      <th>Manufacturer</th>\n",
       "      <th>Type</th>\n",
       "      <th>Calories</th>\n",
       "      <th>Protein (g)</th>\n",
       "      <th>Fat</th>\n",
       "      <th>Sodium</th>\n",
       "      <th>Dietary Fiber</th>\n",
       "      <th>Carbs</th>\n",
       "      <th>Sugars</th>\n",
       "      <th>Display Shelf</th>\n",
       "      <th>Potassium</th>\n",
       "      <th>Vitamins and Minerals</th>\n",
       "      <th>Serving Size Weight</th>\n",
       "      <th>Cups per Serving</th>\n",
       "    </tr>\n",
       "  </thead>\n",
       "  <tbody>\n",
       "    <tr>\n",
       "      <th>0</th>\n",
       "      <td>100%_Bran</td>\n",
       "      <td>Nabisco</td>\n",
       "      <td>C</td>\n",
       "      <td>70.0</td>\n",
       "      <td>4</td>\n",
       "      <td>1.0</td>\n",
       "      <td>130.0</td>\n",
       "      <td>10.0</td>\n",
       "      <td>5.0</td>\n",
       "      <td>6.0</td>\n",
       "      <td>3.0</td>\n",
       "      <td>280.0</td>\n",
       "      <td>25</td>\n",
       "      <td>1.0</td>\n",
       "      <td>0.33</td>\n",
       "    </tr>\n",
       "    <tr>\n",
       "      <th>1</th>\n",
       "      <td>100%_Natural_Bran</td>\n",
       "      <td>Quaker Oats</td>\n",
       "      <td>C</td>\n",
       "      <td>120.0</td>\n",
       "      <td>3</td>\n",
       "      <td>5.0</td>\n",
       "      <td>15.0</td>\n",
       "      <td>2.0</td>\n",
       "      <td>8.0</td>\n",
       "      <td>8.0</td>\n",
       "      <td>3.0</td>\n",
       "      <td>135.0</td>\n",
       "      <td>0</td>\n",
       "      <td>1.0</td>\n",
       "      <td>-1.00</td>\n",
       "    </tr>\n",
       "    <tr>\n",
       "      <th>2</th>\n",
       "      <td>All-Bran</td>\n",
       "      <td>Kelloggs</td>\n",
       "      <td>C</td>\n",
       "      <td>70.0</td>\n",
       "      <td>4</td>\n",
       "      <td>1.0</td>\n",
       "      <td>260.0</td>\n",
       "      <td>9.0</td>\n",
       "      <td>7.0</td>\n",
       "      <td>5.0</td>\n",
       "      <td>3.0</td>\n",
       "      <td>320.0</td>\n",
       "      <td>25</td>\n",
       "      <td>1.0</td>\n",
       "      <td>0.33</td>\n",
       "    </tr>\n",
       "    <tr>\n",
       "      <th>3</th>\n",
       "      <td>All-Bran_with_Extra_Fiber</td>\n",
       "      <td>Kelloggs</td>\n",
       "      <td>C</td>\n",
       "      <td>50.0</td>\n",
       "      <td>4</td>\n",
       "      <td>NaN</td>\n",
       "      <td>140.0</td>\n",
       "      <td>14.0</td>\n",
       "      <td>8.0</td>\n",
       "      <td>NaN</td>\n",
       "      <td>3.0</td>\n",
       "      <td>330.0</td>\n",
       "      <td>25</td>\n",
       "      <td>1.0</td>\n",
       "      <td>0.50</td>\n",
       "    </tr>\n",
       "    <tr>\n",
       "      <th>4</th>\n",
       "      <td>Almond_Delight</td>\n",
       "      <td>Ralston Purina</td>\n",
       "      <td>C</td>\n",
       "      <td>110.0</td>\n",
       "      <td>2</td>\n",
       "      <td>2.0</td>\n",
       "      <td>200.0</td>\n",
       "      <td>1.0</td>\n",
       "      <td>14.0</td>\n",
       "      <td>8.0</td>\n",
       "      <td>3.0</td>\n",
       "      <td>NaN</td>\n",
       "      <td>25</td>\n",
       "      <td>1.0</td>\n",
       "      <td>0.75</td>\n",
       "    </tr>\n",
       "  </tbody>\n",
       "</table>\n",
       "</div>"
      ],
      "text/plain": [
       "                 Cereal Name    Manufacturer Type  Calories  Protein (g)  Fat  \\\n",
       "0                  100%_Bran         Nabisco    C      70.0            4  1.0   \n",
       "1          100%_Natural_Bran     Quaker Oats    C     120.0            3  5.0   \n",
       "2                   All-Bran        Kelloggs    C      70.0            4  1.0   \n",
       "3  All-Bran_with_Extra_Fiber        Kelloggs    C      50.0            4  NaN   \n",
       "4             Almond_Delight  Ralston Purina    C     110.0            2  2.0   \n",
       "\n",
       "   Sodium  Dietary Fiber  Carbs  Sugars  Display Shelf  Potassium  \\\n",
       "0   130.0           10.0    5.0     6.0            3.0      280.0   \n",
       "1    15.0            2.0    8.0     8.0            3.0      135.0   \n",
       "2   260.0            9.0    7.0     5.0            3.0      320.0   \n",
       "3   140.0           14.0    8.0     NaN            3.0      330.0   \n",
       "4   200.0            1.0   14.0     8.0            3.0        NaN   \n",
       "\n",
       "   Vitamins and Minerals  Serving Size Weight  Cups per Serving  \n",
       "0                     25                  1.0              0.33  \n",
       "1                      0                  1.0             -1.00  \n",
       "2                     25                  1.0              0.33  \n",
       "3                     25                  1.0              0.50  \n",
       "4                     25                  1.0              0.75  "
      ]
     },
     "execution_count": 76,
     "metadata": {},
     "output_type": "execute_result"
    }
   ],
   "source": [
    "\"\"\" obtner los primeros 5 registros \"\"\"\n",
    "\n",
    "DFCereal.head()"
   ]
  },
  {
   "cell_type": "code",
   "execution_count": 77,
   "metadata": {},
   "outputs": [
    {
     "data": {
      "text/html": [
       "<div>\n",
       "<style scoped>\n",
       "    .dataframe tbody tr th:only-of-type {\n",
       "        vertical-align: middle;\n",
       "    }\n",
       "\n",
       "    .dataframe tbody tr th {\n",
       "        vertical-align: top;\n",
       "    }\n",
       "\n",
       "    .dataframe thead th {\n",
       "        text-align: right;\n",
       "    }\n",
       "</style>\n",
       "<table border=\"1\" class=\"dataframe\">\n",
       "  <thead>\n",
       "    <tr style=\"text-align: right;\">\n",
       "      <th></th>\n",
       "      <th>Calories</th>\n",
       "      <th>Protein (g)</th>\n",
       "      <th>Fat</th>\n",
       "      <th>Sodium</th>\n",
       "      <th>Dietary Fiber</th>\n",
       "      <th>Carbs</th>\n",
       "      <th>Sugars</th>\n",
       "      <th>Display Shelf</th>\n",
       "      <th>Potassium</th>\n",
       "      <th>Vitamins and Minerals</th>\n",
       "      <th>Serving Size Weight</th>\n",
       "      <th>Cups per Serving</th>\n",
       "    </tr>\n",
       "  </thead>\n",
       "  <tbody>\n",
       "    <tr>\n",
       "      <th>count</th>\n",
       "      <td>72.000000</td>\n",
       "      <td>74.000000</td>\n",
       "      <td>72.000000</td>\n",
       "      <td>73.000000</td>\n",
       "      <td>69.000000</td>\n",
       "      <td>70.000000</td>\n",
       "      <td>69.000000</td>\n",
       "      <td>70.000000</td>\n",
       "      <td>72.000000</td>\n",
       "      <td>74.000000</td>\n",
       "      <td>74.000000</td>\n",
       "      <td>74.000000</td>\n",
       "    </tr>\n",
       "    <tr>\n",
       "      <th>mean</th>\n",
       "      <td>105.972222</td>\n",
       "      <td>2.500000</td>\n",
       "      <td>0.972222</td>\n",
       "      <td>160.000000</td>\n",
       "      <td>2.198551</td>\n",
       "      <td>15.000000</td>\n",
       "      <td>7.246377</td>\n",
       "      <td>2.214286</td>\n",
       "      <td>95.277778</td>\n",
       "      <td>28.378378</td>\n",
       "      <td>1.027432</td>\n",
       "      <td>0.629054</td>\n",
       "    </tr>\n",
       "    <tr>\n",
       "      <th>std</th>\n",
       "      <td>18.512251</td>\n",
       "      <td>1.088546</td>\n",
       "      <td>0.963740</td>\n",
       "      <td>85.578099</td>\n",
       "      <td>2.433739</td>\n",
       "      <td>3.935163</td>\n",
       "      <td>4.244047</td>\n",
       "      <td>0.832194</td>\n",
       "      <td>69.767667</td>\n",
       "      <td>22.787104</td>\n",
       "      <td>0.151260</td>\n",
       "      <td>0.576843</td>\n",
       "    </tr>\n",
       "    <tr>\n",
       "      <th>min</th>\n",
       "      <td>50.000000</td>\n",
       "      <td>1.000000</td>\n",
       "      <td>0.000000</td>\n",
       "      <td>0.000000</td>\n",
       "      <td>0.000000</td>\n",
       "      <td>5.000000</td>\n",
       "      <td>-1.000000</td>\n",
       "      <td>1.000000</td>\n",
       "      <td>15.000000</td>\n",
       "      <td>0.000000</td>\n",
       "      <td>0.500000</td>\n",
       "      <td>-1.000000</td>\n",
       "    </tr>\n",
       "    <tr>\n",
       "      <th>25%</th>\n",
       "      <td>100.000000</td>\n",
       "      <td>2.000000</td>\n",
       "      <td>0.000000</td>\n",
       "      <td>130.000000</td>\n",
       "      <td>1.000000</td>\n",
       "      <td>12.250000</td>\n",
       "      <td>3.000000</td>\n",
       "      <td>1.250000</td>\n",
       "      <td>40.000000</td>\n",
       "      <td>25.000000</td>\n",
       "      <td>1.000000</td>\n",
       "      <td>0.670000</td>\n",
       "    </tr>\n",
       "    <tr>\n",
       "      <th>50%</th>\n",
       "      <td>110.000000</td>\n",
       "      <td>2.000000</td>\n",
       "      <td>1.000000</td>\n",
       "      <td>180.000000</td>\n",
       "      <td>2.000000</td>\n",
       "      <td>15.000000</td>\n",
       "      <td>7.000000</td>\n",
       "      <td>2.000000</td>\n",
       "      <td>90.000000</td>\n",
       "      <td>25.000000</td>\n",
       "      <td>1.000000</td>\n",
       "      <td>0.750000</td>\n",
       "    </tr>\n",
       "    <tr>\n",
       "      <th>75%</th>\n",
       "      <td>110.000000</td>\n",
       "      <td>3.000000</td>\n",
       "      <td>1.000000</td>\n",
       "      <td>220.000000</td>\n",
       "      <td>3.000000</td>\n",
       "      <td>17.000000</td>\n",
       "      <td>11.000000</td>\n",
       "      <td>3.000000</td>\n",
       "      <td>116.250000</td>\n",
       "      <td>25.000000</td>\n",
       "      <td>1.000000</td>\n",
       "      <td>1.000000</td>\n",
       "    </tr>\n",
       "    <tr>\n",
       "      <th>max</th>\n",
       "      <td>160.000000</td>\n",
       "      <td>6.000000</td>\n",
       "      <td>5.000000</td>\n",
       "      <td>320.000000</td>\n",
       "      <td>14.000000</td>\n",
       "      <td>23.000000</td>\n",
       "      <td>15.000000</td>\n",
       "      <td>3.000000</td>\n",
       "      <td>330.000000</td>\n",
       "      <td>100.000000</td>\n",
       "      <td>1.500000</td>\n",
       "      <td>1.500000</td>\n",
       "    </tr>\n",
       "  </tbody>\n",
       "</table>\n",
       "</div>"
      ],
      "text/plain": [
       "         Calories  Protein (g)        Fat      Sodium  Dietary Fiber  \\\n",
       "count   72.000000    74.000000  72.000000   73.000000      69.000000   \n",
       "mean   105.972222     2.500000   0.972222  160.000000       2.198551   \n",
       "std     18.512251     1.088546   0.963740   85.578099       2.433739   \n",
       "min     50.000000     1.000000   0.000000    0.000000       0.000000   \n",
       "25%    100.000000     2.000000   0.000000  130.000000       1.000000   \n",
       "50%    110.000000     2.000000   1.000000  180.000000       2.000000   \n",
       "75%    110.000000     3.000000   1.000000  220.000000       3.000000   \n",
       "max    160.000000     6.000000   5.000000  320.000000      14.000000   \n",
       "\n",
       "           Carbs     Sugars  Display Shelf   Potassium  Vitamins and Minerals  \\\n",
       "count  70.000000  69.000000      70.000000   72.000000              74.000000   \n",
       "mean   15.000000   7.246377       2.214286   95.277778              28.378378   \n",
       "std     3.935163   4.244047       0.832194   69.767667              22.787104   \n",
       "min     5.000000  -1.000000       1.000000   15.000000               0.000000   \n",
       "25%    12.250000   3.000000       1.250000   40.000000              25.000000   \n",
       "50%    15.000000   7.000000       2.000000   90.000000              25.000000   \n",
       "75%    17.000000  11.000000       3.000000  116.250000              25.000000   \n",
       "max    23.000000  15.000000       3.000000  330.000000             100.000000   \n",
       "\n",
       "       Serving Size Weight  Cups per Serving  \n",
       "count            74.000000         74.000000  \n",
       "mean              1.027432          0.629054  \n",
       "std               0.151260          0.576843  \n",
       "min               0.500000         -1.000000  \n",
       "25%               1.000000          0.670000  \n",
       "50%               1.000000          0.750000  \n",
       "75%               1.000000          1.000000  \n",
       "max               1.500000          1.500000  "
      ]
     },
     "execution_count": 77,
     "metadata": {},
     "output_type": "execute_result"
    }
   ],
   "source": [
    "\"\"\" ver un analisis rapoido de los datos  \"\"\"\n",
    "\n",
    "DFCereal.describe()"
   ]
  },
  {
   "cell_type": "markdown",
   "metadata": {},
   "source": [
    "## Renombrar las columnas"
   ]
  },
  {
   "cell_type": "code",
   "execution_count": 78,
   "metadata": {},
   "outputs": [],
   "source": [
    "name_columns = {\n",
    "    \"Cereal Name\": \"Name\",\n",
    "    \"Manufacturer\": \"Manuf\",\n",
    "    \"Protein (g)\": \"Protein\",\n",
    "    \"Potassium\": \"Potass\",\n",
    "    \"Vitamins and Minerals\": \"Vitamins\",\n",
    "}"
   ]
  },
  {
   "cell_type": "code",
   "execution_count": 79,
   "metadata": {},
   "outputs": [],
   "source": [
    "DFCereal = DFCereal.rename(columns=name_columns)"
   ]
  },
  {
   "cell_type": "code",
   "execution_count": 80,
   "metadata": {},
   "outputs": [
    {
     "data": {
      "text/html": [
       "<div>\n",
       "<style scoped>\n",
       "    .dataframe tbody tr th:only-of-type {\n",
       "        vertical-align: middle;\n",
       "    }\n",
       "\n",
       "    .dataframe tbody tr th {\n",
       "        vertical-align: top;\n",
       "    }\n",
       "\n",
       "    .dataframe thead th {\n",
       "        text-align: right;\n",
       "    }\n",
       "</style>\n",
       "<table border=\"1\" class=\"dataframe\">\n",
       "  <thead>\n",
       "    <tr style=\"text-align: right;\">\n",
       "      <th></th>\n",
       "      <th>Name</th>\n",
       "      <th>Manuf</th>\n",
       "      <th>Type</th>\n",
       "      <th>Calories</th>\n",
       "      <th>Protein</th>\n",
       "      <th>Fat</th>\n",
       "      <th>Sodium</th>\n",
       "      <th>Dietary Fiber</th>\n",
       "      <th>Carbs</th>\n",
       "      <th>Sugars</th>\n",
       "      <th>Display Shelf</th>\n",
       "      <th>Potass</th>\n",
       "      <th>Vitamins</th>\n",
       "      <th>Serving Size Weight</th>\n",
       "      <th>Cups per Serving</th>\n",
       "    </tr>\n",
       "  </thead>\n",
       "  <tbody>\n",
       "    <tr>\n",
       "      <th>0</th>\n",
       "      <td>100%_Bran</td>\n",
       "      <td>Nabisco</td>\n",
       "      <td>C</td>\n",
       "      <td>70.0</td>\n",
       "      <td>4</td>\n",
       "      <td>1.0</td>\n",
       "      <td>130.0</td>\n",
       "      <td>10.0</td>\n",
       "      <td>5.0</td>\n",
       "      <td>6.0</td>\n",
       "      <td>3.0</td>\n",
       "      <td>280.0</td>\n",
       "      <td>25</td>\n",
       "      <td>1.0</td>\n",
       "      <td>0.33</td>\n",
       "    </tr>\n",
       "    <tr>\n",
       "      <th>1</th>\n",
       "      <td>100%_Natural_Bran</td>\n",
       "      <td>Quaker Oats</td>\n",
       "      <td>C</td>\n",
       "      <td>120.0</td>\n",
       "      <td>3</td>\n",
       "      <td>5.0</td>\n",
       "      <td>15.0</td>\n",
       "      <td>2.0</td>\n",
       "      <td>8.0</td>\n",
       "      <td>8.0</td>\n",
       "      <td>3.0</td>\n",
       "      <td>135.0</td>\n",
       "      <td>0</td>\n",
       "      <td>1.0</td>\n",
       "      <td>-1.00</td>\n",
       "    </tr>\n",
       "    <tr>\n",
       "      <th>2</th>\n",
       "      <td>All-Bran</td>\n",
       "      <td>Kelloggs</td>\n",
       "      <td>C</td>\n",
       "      <td>70.0</td>\n",
       "      <td>4</td>\n",
       "      <td>1.0</td>\n",
       "      <td>260.0</td>\n",
       "      <td>9.0</td>\n",
       "      <td>7.0</td>\n",
       "      <td>5.0</td>\n",
       "      <td>3.0</td>\n",
       "      <td>320.0</td>\n",
       "      <td>25</td>\n",
       "      <td>1.0</td>\n",
       "      <td>0.33</td>\n",
       "    </tr>\n",
       "    <tr>\n",
       "      <th>3</th>\n",
       "      <td>All-Bran_with_Extra_Fiber</td>\n",
       "      <td>Kelloggs</td>\n",
       "      <td>C</td>\n",
       "      <td>50.0</td>\n",
       "      <td>4</td>\n",
       "      <td>NaN</td>\n",
       "      <td>140.0</td>\n",
       "      <td>14.0</td>\n",
       "      <td>8.0</td>\n",
       "      <td>NaN</td>\n",
       "      <td>3.0</td>\n",
       "      <td>330.0</td>\n",
       "      <td>25</td>\n",
       "      <td>1.0</td>\n",
       "      <td>0.50</td>\n",
       "    </tr>\n",
       "    <tr>\n",
       "      <th>4</th>\n",
       "      <td>Almond_Delight</td>\n",
       "      <td>Ralston Purina</td>\n",
       "      <td>C</td>\n",
       "      <td>110.0</td>\n",
       "      <td>2</td>\n",
       "      <td>2.0</td>\n",
       "      <td>200.0</td>\n",
       "      <td>1.0</td>\n",
       "      <td>14.0</td>\n",
       "      <td>8.0</td>\n",
       "      <td>3.0</td>\n",
       "      <td>NaN</td>\n",
       "      <td>25</td>\n",
       "      <td>1.0</td>\n",
       "      <td>0.75</td>\n",
       "    </tr>\n",
       "  </tbody>\n",
       "</table>\n",
       "</div>"
      ],
      "text/plain": [
       "                        Name           Manuf Type  Calories  Protein  Fat  \\\n",
       "0                  100%_Bran         Nabisco    C      70.0        4  1.0   \n",
       "1          100%_Natural_Bran     Quaker Oats    C     120.0        3  5.0   \n",
       "2                   All-Bran        Kelloggs    C      70.0        4  1.0   \n",
       "3  All-Bran_with_Extra_Fiber        Kelloggs    C      50.0        4  NaN   \n",
       "4             Almond_Delight  Ralston Purina    C     110.0        2  2.0   \n",
       "\n",
       "   Sodium  Dietary Fiber  Carbs  Sugars  Display Shelf  Potass  Vitamins  \\\n",
       "0   130.0           10.0    5.0     6.0            3.0   280.0        25   \n",
       "1    15.0            2.0    8.0     8.0            3.0   135.0         0   \n",
       "2   260.0            9.0    7.0     5.0            3.0   320.0        25   \n",
       "3   140.0           14.0    8.0     NaN            3.0   330.0        25   \n",
       "4   200.0            1.0   14.0     8.0            3.0     NaN        25   \n",
       "\n",
       "   Serving Size Weight  Cups per Serving  \n",
       "0                  1.0              0.33  \n",
       "1                  1.0             -1.00  \n",
       "2                  1.0              0.33  \n",
       "3                  1.0              0.50  \n",
       "4                  1.0              0.75  "
      ]
     },
     "execution_count": 80,
     "metadata": {},
     "output_type": "execute_result"
    }
   ],
   "source": [
    "\"\"\" comprobar el renombrado de las columnas \"\"\"\n",
    "\n",
    "DFCereal.head()"
   ]
  },
  {
   "cell_type": "markdown",
   "metadata": {},
   "source": [
    "<!--  -->"
   ]
  },
  {
   "cell_type": "markdown",
   "metadata": {},
   "source": [
    "## seleccionar un subconjunto de los primeros 50 datos y columnas de necesarias para el analisis de los datos\n"
   ]
  },
  {
   "cell_type": "code",
   "execution_count": 81,
   "metadata": {},
   "outputs": [],
   "source": [
    "DFSCereal = DFCereal.head(50)"
   ]
  },
  {
   "cell_type": "code",
   "execution_count": 82,
   "metadata": {},
   "outputs": [
    {
     "data": {
      "text/html": [
       "<div>\n",
       "<style scoped>\n",
       "    .dataframe tbody tr th:only-of-type {\n",
       "        vertical-align: middle;\n",
       "    }\n",
       "\n",
       "    .dataframe tbody tr th {\n",
       "        vertical-align: top;\n",
       "    }\n",
       "\n",
       "    .dataframe thead th {\n",
       "        text-align: right;\n",
       "    }\n",
       "</style>\n",
       "<table border=\"1\" class=\"dataframe\">\n",
       "  <thead>\n",
       "    <tr style=\"text-align: right;\">\n",
       "      <th></th>\n",
       "      <th>Calories</th>\n",
       "      <th>Protein</th>\n",
       "      <th>Fat</th>\n",
       "      <th>Sodium</th>\n",
       "      <th>Dietary Fiber</th>\n",
       "      <th>Carbs</th>\n",
       "      <th>Sugars</th>\n",
       "      <th>Display Shelf</th>\n",
       "      <th>Potass</th>\n",
       "      <th>Vitamins</th>\n",
       "      <th>Serving Size Weight</th>\n",
       "      <th>Cups per Serving</th>\n",
       "    </tr>\n",
       "  </thead>\n",
       "  <tbody>\n",
       "    <tr>\n",
       "      <th>count</th>\n",
       "      <td>48.000000</td>\n",
       "      <td>50.000000</td>\n",
       "      <td>48.000000</td>\n",
       "      <td>49.000000</td>\n",
       "      <td>48.000000</td>\n",
       "      <td>48.000000</td>\n",
       "      <td>48.000000</td>\n",
       "      <td>48.000000</td>\n",
       "      <td>48.000000</td>\n",
       "      <td>50.000000</td>\n",
       "      <td>50.000000</td>\n",
       "      <td>50.000000</td>\n",
       "    </tr>\n",
       "    <tr>\n",
       "      <th>mean</th>\n",
       "      <td>109.375000</td>\n",
       "      <td>2.440000</td>\n",
       "      <td>1.145833</td>\n",
       "      <td>171.836735</td>\n",
       "      <td>2.281250</td>\n",
       "      <td>14.302083</td>\n",
       "      <td>8.104167</td>\n",
       "      <td>2.312500</td>\n",
       "      <td>97.708333</td>\n",
       "      <td>27.000000</td>\n",
       "      <td>1.047400</td>\n",
       "      <td>0.644800</td>\n",
       "    </tr>\n",
       "    <tr>\n",
       "      <th>std</th>\n",
       "      <td>17.308988</td>\n",
       "      <td>1.052887</td>\n",
       "      <td>1.051637</td>\n",
       "      <td>69.833835</td>\n",
       "      <td>2.759714</td>\n",
       "      <td>3.932596</td>\n",
       "      <td>3.816201</td>\n",
       "      <td>0.748225</td>\n",
       "      <td>75.152033</td>\n",
       "      <td>15.843624</td>\n",
       "      <td>0.121702</td>\n",
       "      <td>0.547951</td>\n",
       "    </tr>\n",
       "    <tr>\n",
       "      <th>min</th>\n",
       "      <td>50.000000</td>\n",
       "      <td>1.000000</td>\n",
       "      <td>0.000000</td>\n",
       "      <td>0.000000</td>\n",
       "      <td>0.000000</td>\n",
       "      <td>5.000000</td>\n",
       "      <td>0.000000</td>\n",
       "      <td>1.000000</td>\n",
       "      <td>20.000000</td>\n",
       "      <td>0.000000</td>\n",
       "      <td>1.000000</td>\n",
       "      <td>-1.000000</td>\n",
       "    </tr>\n",
       "    <tr>\n",
       "      <th>25%</th>\n",
       "      <td>100.000000</td>\n",
       "      <td>2.000000</td>\n",
       "      <td>0.000000</td>\n",
       "      <td>140.000000</td>\n",
       "      <td>1.000000</td>\n",
       "      <td>12.000000</td>\n",
       "      <td>5.000000</td>\n",
       "      <td>2.000000</td>\n",
       "      <td>40.000000</td>\n",
       "      <td>25.000000</td>\n",
       "      <td>1.000000</td>\n",
       "      <td>0.670000</td>\n",
       "    </tr>\n",
       "    <tr>\n",
       "      <th>50%</th>\n",
       "      <td>110.000000</td>\n",
       "      <td>2.000000</td>\n",
       "      <td>1.000000</td>\n",
       "      <td>180.000000</td>\n",
       "      <td>1.500000</td>\n",
       "      <td>14.000000</td>\n",
       "      <td>8.000000</td>\n",
       "      <td>2.000000</td>\n",
       "      <td>90.000000</td>\n",
       "      <td>25.000000</td>\n",
       "      <td>1.000000</td>\n",
       "      <td>0.750000</td>\n",
       "    </tr>\n",
       "    <tr>\n",
       "      <th>75%</th>\n",
       "      <td>120.000000</td>\n",
       "      <td>3.000000</td>\n",
       "      <td>2.000000</td>\n",
       "      <td>220.000000</td>\n",
       "      <td>3.000000</td>\n",
       "      <td>17.000000</td>\n",
       "      <td>11.250000</td>\n",
       "      <td>3.000000</td>\n",
       "      <td>120.000000</td>\n",
       "      <td>25.000000</td>\n",
       "      <td>1.000000</td>\n",
       "      <td>1.000000</td>\n",
       "    </tr>\n",
       "    <tr>\n",
       "      <th>max</th>\n",
       "      <td>160.000000</td>\n",
       "      <td>6.000000</td>\n",
       "      <td>5.000000</td>\n",
       "      <td>290.000000</td>\n",
       "      <td>14.000000</td>\n",
       "      <td>22.000000</td>\n",
       "      <td>15.000000</td>\n",
       "      <td>3.000000</td>\n",
       "      <td>330.000000</td>\n",
       "      <td>100.000000</td>\n",
       "      <td>1.500000</td>\n",
       "      <td>1.500000</td>\n",
       "    </tr>\n",
       "  </tbody>\n",
       "</table>\n",
       "</div>"
      ],
      "text/plain": [
       "         Calories    Protein        Fat      Sodium  Dietary Fiber      Carbs  \\\n",
       "count   48.000000  50.000000  48.000000   49.000000      48.000000  48.000000   \n",
       "mean   109.375000   2.440000   1.145833  171.836735       2.281250  14.302083   \n",
       "std     17.308988   1.052887   1.051637   69.833835       2.759714   3.932596   \n",
       "min     50.000000   1.000000   0.000000    0.000000       0.000000   5.000000   \n",
       "25%    100.000000   2.000000   0.000000  140.000000       1.000000  12.000000   \n",
       "50%    110.000000   2.000000   1.000000  180.000000       1.500000  14.000000   \n",
       "75%    120.000000   3.000000   2.000000  220.000000       3.000000  17.000000   \n",
       "max    160.000000   6.000000   5.000000  290.000000      14.000000  22.000000   \n",
       "\n",
       "          Sugars  Display Shelf      Potass    Vitamins  Serving Size Weight  \\\n",
       "count  48.000000      48.000000   48.000000   50.000000            50.000000   \n",
       "mean    8.104167       2.312500   97.708333   27.000000             1.047400   \n",
       "std     3.816201       0.748225   75.152033   15.843624             0.121702   \n",
       "min     0.000000       1.000000   20.000000    0.000000             1.000000   \n",
       "25%     5.000000       2.000000   40.000000   25.000000             1.000000   \n",
       "50%     8.000000       2.000000   90.000000   25.000000             1.000000   \n",
       "75%    11.250000       3.000000  120.000000   25.000000             1.000000   \n",
       "max    15.000000       3.000000  330.000000  100.000000             1.500000   \n",
       "\n",
       "       Cups per Serving  \n",
       "count         50.000000  \n",
       "mean           0.644800  \n",
       "std            0.547951  \n",
       "min           -1.000000  \n",
       "25%            0.670000  \n",
       "50%            0.750000  \n",
       "75%            1.000000  \n",
       "max            1.500000  "
      ]
     },
     "execution_count": 82,
     "metadata": {},
     "output_type": "execute_result"
    }
   ],
   "source": [
    "DFSCereal.describe()"
   ]
  },
  {
   "cell_type": "code",
   "execution_count": 83,
   "metadata": {},
   "outputs": [],
   "source": [
    "DFSCereal = DFSCereal[\n",
    "    [\"Name\", \"Manuf\", \"Type\", \"Calories\", \"Protein\", \"Sodium\", \"Potass\", \"Vitamins\"]\n",
    "]"
   ]
  },
  {
   "cell_type": "code",
   "execution_count": 84,
   "metadata": {},
   "outputs": [
    {
     "data": {
      "text/html": [
       "<div>\n",
       "<style scoped>\n",
       "    .dataframe tbody tr th:only-of-type {\n",
       "        vertical-align: middle;\n",
       "    }\n",
       "\n",
       "    .dataframe tbody tr th {\n",
       "        vertical-align: top;\n",
       "    }\n",
       "\n",
       "    .dataframe thead th {\n",
       "        text-align: right;\n",
       "    }\n",
       "</style>\n",
       "<table border=\"1\" class=\"dataframe\">\n",
       "  <thead>\n",
       "    <tr style=\"text-align: right;\">\n",
       "      <th></th>\n",
       "      <th>Name</th>\n",
       "      <th>Manuf</th>\n",
       "      <th>Type</th>\n",
       "      <th>Calories</th>\n",
       "      <th>Protein</th>\n",
       "      <th>Sodium</th>\n",
       "      <th>Potass</th>\n",
       "      <th>Vitamins</th>\n",
       "    </tr>\n",
       "  </thead>\n",
       "  <tbody>\n",
       "    <tr>\n",
       "      <th>0</th>\n",
       "      <td>100%_Bran</td>\n",
       "      <td>Nabisco</td>\n",
       "      <td>C</td>\n",
       "      <td>70.0</td>\n",
       "      <td>4</td>\n",
       "      <td>130.0</td>\n",
       "      <td>280.0</td>\n",
       "      <td>25</td>\n",
       "    </tr>\n",
       "    <tr>\n",
       "      <th>1</th>\n",
       "      <td>100%_Natural_Bran</td>\n",
       "      <td>Quaker Oats</td>\n",
       "      <td>C</td>\n",
       "      <td>120.0</td>\n",
       "      <td>3</td>\n",
       "      <td>15.0</td>\n",
       "      <td>135.0</td>\n",
       "      <td>0</td>\n",
       "    </tr>\n",
       "    <tr>\n",
       "      <th>2</th>\n",
       "      <td>All-Bran</td>\n",
       "      <td>Kelloggs</td>\n",
       "      <td>C</td>\n",
       "      <td>70.0</td>\n",
       "      <td>4</td>\n",
       "      <td>260.0</td>\n",
       "      <td>320.0</td>\n",
       "      <td>25</td>\n",
       "    </tr>\n",
       "    <tr>\n",
       "      <th>3</th>\n",
       "      <td>All-Bran_with_Extra_Fiber</td>\n",
       "      <td>Kelloggs</td>\n",
       "      <td>C</td>\n",
       "      <td>50.0</td>\n",
       "      <td>4</td>\n",
       "      <td>140.0</td>\n",
       "      <td>330.0</td>\n",
       "      <td>25</td>\n",
       "    </tr>\n",
       "    <tr>\n",
       "      <th>4</th>\n",
       "      <td>Almond_Delight</td>\n",
       "      <td>Ralston Purina</td>\n",
       "      <td>C</td>\n",
       "      <td>110.0</td>\n",
       "      <td>2</td>\n",
       "      <td>200.0</td>\n",
       "      <td>NaN</td>\n",
       "      <td>25</td>\n",
       "    </tr>\n",
       "    <tr>\n",
       "      <th>5</th>\n",
       "      <td>Apple_Cinnamon_Cheerios</td>\n",
       "      <td>General Mills</td>\n",
       "      <td>C</td>\n",
       "      <td>110.0</td>\n",
       "      <td>2</td>\n",
       "      <td>180.0</td>\n",
       "      <td>70.0</td>\n",
       "      <td>25</td>\n",
       "    </tr>\n",
       "    <tr>\n",
       "      <th>6</th>\n",
       "      <td>Apple_Jacks</td>\n",
       "      <td>Kelloggs</td>\n",
       "      <td>C</td>\n",
       "      <td>110.0</td>\n",
       "      <td>2</td>\n",
       "      <td>125.0</td>\n",
       "      <td>30.0</td>\n",
       "      <td>25</td>\n",
       "    </tr>\n",
       "    <tr>\n",
       "      <th>7</th>\n",
       "      <td>Basic_4</td>\n",
       "      <td>General Mills</td>\n",
       "      <td>C</td>\n",
       "      <td>130.0</td>\n",
       "      <td>3</td>\n",
       "      <td>210.0</td>\n",
       "      <td>100.0</td>\n",
       "      <td>25</td>\n",
       "    </tr>\n",
       "    <tr>\n",
       "      <th>8</th>\n",
       "      <td>Bran_Chex</td>\n",
       "      <td>Ralston Purina</td>\n",
       "      <td>C</td>\n",
       "      <td>NaN</td>\n",
       "      <td>2</td>\n",
       "      <td>200.0</td>\n",
       "      <td>125.0</td>\n",
       "      <td>25</td>\n",
       "    </tr>\n",
       "    <tr>\n",
       "      <th>9</th>\n",
       "      <td>Bran_Flakes</td>\n",
       "      <td>Post</td>\n",
       "      <td>C</td>\n",
       "      <td>NaN</td>\n",
       "      <td>3</td>\n",
       "      <td>NaN</td>\n",
       "      <td>190.0</td>\n",
       "      <td>25</td>\n",
       "    </tr>\n",
       "    <tr>\n",
       "      <th>10</th>\n",
       "      <td>Cap'n'Crunch</td>\n",
       "      <td>Quaker Oats</td>\n",
       "      <td>C</td>\n",
       "      <td>120.0</td>\n",
       "      <td>1</td>\n",
       "      <td>220.0</td>\n",
       "      <td>35.0</td>\n",
       "      <td>25</td>\n",
       "    </tr>\n",
       "    <tr>\n",
       "      <th>11</th>\n",
       "      <td>Cheerios</td>\n",
       "      <td>General Mills</td>\n",
       "      <td>C</td>\n",
       "      <td>110.0</td>\n",
       "      <td>6</td>\n",
       "      <td>290.0</td>\n",
       "      <td>105.0</td>\n",
       "      <td>25</td>\n",
       "    </tr>\n",
       "    <tr>\n",
       "      <th>12</th>\n",
       "      <td>Cinnamon_Toast_Crunch</td>\n",
       "      <td>General Mills</td>\n",
       "      <td>C</td>\n",
       "      <td>120.0</td>\n",
       "      <td>1</td>\n",
       "      <td>210.0</td>\n",
       "      <td>45.0</td>\n",
       "      <td>25</td>\n",
       "    </tr>\n",
       "    <tr>\n",
       "      <th>13</th>\n",
       "      <td>Clusters</td>\n",
       "      <td>General Mills</td>\n",
       "      <td>C</td>\n",
       "      <td>110.0</td>\n",
       "      <td>3</td>\n",
       "      <td>140.0</td>\n",
       "      <td>105.0</td>\n",
       "      <td>25</td>\n",
       "    </tr>\n",
       "    <tr>\n",
       "      <th>14</th>\n",
       "      <td>Cocoa_Puffs</td>\n",
       "      <td>General Mills</td>\n",
       "      <td>C</td>\n",
       "      <td>110.0</td>\n",
       "      <td>1</td>\n",
       "      <td>180.0</td>\n",
       "      <td>55.0</td>\n",
       "      <td>25</td>\n",
       "    </tr>\n",
       "    <tr>\n",
       "      <th>15</th>\n",
       "      <td>Corn_Chex</td>\n",
       "      <td>Ralston Purina</td>\n",
       "      <td>C</td>\n",
       "      <td>110.0</td>\n",
       "      <td>2</td>\n",
       "      <td>280.0</td>\n",
       "      <td>25.0</td>\n",
       "      <td>25</td>\n",
       "    </tr>\n",
       "    <tr>\n",
       "      <th>16</th>\n",
       "      <td>Corn_Flakes</td>\n",
       "      <td>Kelloggs</td>\n",
       "      <td>C</td>\n",
       "      <td>100.0</td>\n",
       "      <td>2</td>\n",
       "      <td>290.0</td>\n",
       "      <td>35.0</td>\n",
       "      <td>25</td>\n",
       "    </tr>\n",
       "    <tr>\n",
       "      <th>17</th>\n",
       "      <td>Corn_Pops</td>\n",
       "      <td>Kelloggs</td>\n",
       "      <td>C</td>\n",
       "      <td>110.0</td>\n",
       "      <td>1</td>\n",
       "      <td>90.0</td>\n",
       "      <td>20.0</td>\n",
       "      <td>25</td>\n",
       "    </tr>\n",
       "    <tr>\n",
       "      <th>18</th>\n",
       "      <td>Count_Chocula</td>\n",
       "      <td>General Mills</td>\n",
       "      <td>C</td>\n",
       "      <td>110.0</td>\n",
       "      <td>1</td>\n",
       "      <td>180.0</td>\n",
       "      <td>65.0</td>\n",
       "      <td>25</td>\n",
       "    </tr>\n",
       "    <tr>\n",
       "      <th>19</th>\n",
       "      <td>Cracklin'_Oat_Bran</td>\n",
       "      <td>Kelloggs</td>\n",
       "      <td>C</td>\n",
       "      <td>110.0</td>\n",
       "      <td>3</td>\n",
       "      <td>140.0</td>\n",
       "      <td>160.0</td>\n",
       "      <td>25</td>\n",
       "    </tr>\n",
       "    <tr>\n",
       "      <th>20</th>\n",
       "      <td>Cream_of_Wheat_(Quick)</td>\n",
       "      <td>Nabisco</td>\n",
       "      <td>NaN</td>\n",
       "      <td>100.0</td>\n",
       "      <td>3</td>\n",
       "      <td>80.0</td>\n",
       "      <td>NaN</td>\n",
       "      <td>0</td>\n",
       "    </tr>\n",
       "    <tr>\n",
       "      <th>21</th>\n",
       "      <td>Crispix</td>\n",
       "      <td>Kelloggs</td>\n",
       "      <td>C</td>\n",
       "      <td>110.0</td>\n",
       "      <td>2</td>\n",
       "      <td>220.0</td>\n",
       "      <td>30.0</td>\n",
       "      <td>25</td>\n",
       "    </tr>\n",
       "    <tr>\n",
       "      <th>22</th>\n",
       "      <td>Crispy_Wheat_&amp;_Raisins</td>\n",
       "      <td>General Mills</td>\n",
       "      <td>C</td>\n",
       "      <td>100.0</td>\n",
       "      <td>2</td>\n",
       "      <td>140.0</td>\n",
       "      <td>120.0</td>\n",
       "      <td>25</td>\n",
       "    </tr>\n",
       "    <tr>\n",
       "      <th>23</th>\n",
       "      <td>Double_Chex</td>\n",
       "      <td>Ralston Purina</td>\n",
       "      <td>C</td>\n",
       "      <td>100.0</td>\n",
       "      <td>2</td>\n",
       "      <td>190.0</td>\n",
       "      <td>80.0</td>\n",
       "      <td>25</td>\n",
       "    </tr>\n",
       "    <tr>\n",
       "      <th>24</th>\n",
       "      <td>Froot_Loops</td>\n",
       "      <td>Kelloggs</td>\n",
       "      <td>C</td>\n",
       "      <td>110.0</td>\n",
       "      <td>2</td>\n",
       "      <td>125.0</td>\n",
       "      <td>30.0</td>\n",
       "      <td>25</td>\n",
       "    </tr>\n",
       "    <tr>\n",
       "      <th>25</th>\n",
       "      <td>Frosted_Flakes</td>\n",
       "      <td>Kelloggs</td>\n",
       "      <td>C</td>\n",
       "      <td>110.0</td>\n",
       "      <td>1</td>\n",
       "      <td>200.0</td>\n",
       "      <td>25.0</td>\n",
       "      <td>25</td>\n",
       "    </tr>\n",
       "    <tr>\n",
       "      <th>26</th>\n",
       "      <td>Frosted_Mini-Wheats</td>\n",
       "      <td>Kelloggs</td>\n",
       "      <td>C</td>\n",
       "      <td>100.0</td>\n",
       "      <td>3</td>\n",
       "      <td>0.0</td>\n",
       "      <td>100.0</td>\n",
       "      <td>25</td>\n",
       "    </tr>\n",
       "    <tr>\n",
       "      <th>27</th>\n",
       "      <td>Fruitful_Bran</td>\n",
       "      <td>Kelloggs</td>\n",
       "      <td>C</td>\n",
       "      <td>120.0</td>\n",
       "      <td>3</td>\n",
       "      <td>240.0</td>\n",
       "      <td>190.0</td>\n",
       "      <td>25</td>\n",
       "    </tr>\n",
       "    <tr>\n",
       "      <th>28</th>\n",
       "      <td>Fruity_Pebbles</td>\n",
       "      <td>Post</td>\n",
       "      <td>C</td>\n",
       "      <td>110.0</td>\n",
       "      <td>1</td>\n",
       "      <td>135.0</td>\n",
       "      <td>25.0</td>\n",
       "      <td>25</td>\n",
       "    </tr>\n",
       "    <tr>\n",
       "      <th>29</th>\n",
       "      <td>Golden_Crisp</td>\n",
       "      <td>Post</td>\n",
       "      <td>C</td>\n",
       "      <td>100.0</td>\n",
       "      <td>2</td>\n",
       "      <td>45.0</td>\n",
       "      <td>40.0</td>\n",
       "      <td>25</td>\n",
       "    </tr>\n",
       "    <tr>\n",
       "      <th>30</th>\n",
       "      <td>Golden_Grahams</td>\n",
       "      <td>General Mills</td>\n",
       "      <td>C</td>\n",
       "      <td>110.0</td>\n",
       "      <td>1</td>\n",
       "      <td>280.0</td>\n",
       "      <td>45.0</td>\n",
       "      <td>25</td>\n",
       "    </tr>\n",
       "    <tr>\n",
       "      <th>31</th>\n",
       "      <td>Grape_Nuts_Flakes</td>\n",
       "      <td>Post</td>\n",
       "      <td>C</td>\n",
       "      <td>100.0</td>\n",
       "      <td>3</td>\n",
       "      <td>140.0</td>\n",
       "      <td>85.0</td>\n",
       "      <td>25</td>\n",
       "    </tr>\n",
       "    <tr>\n",
       "      <th>32</th>\n",
       "      <td>Grape-Nuts</td>\n",
       "      <td>Post</td>\n",
       "      <td>C</td>\n",
       "      <td>110.0</td>\n",
       "      <td>3</td>\n",
       "      <td>170.0</td>\n",
       "      <td>90.0</td>\n",
       "      <td>25</td>\n",
       "    </tr>\n",
       "    <tr>\n",
       "      <th>33</th>\n",
       "      <td>Great_Grains_Pecan</td>\n",
       "      <td>Post</td>\n",
       "      <td>C</td>\n",
       "      <td>120.0</td>\n",
       "      <td>3</td>\n",
       "      <td>75.0</td>\n",
       "      <td>100.0</td>\n",
       "      <td>25</td>\n",
       "    </tr>\n",
       "    <tr>\n",
       "      <th>34</th>\n",
       "      <td>Honey_Graham_Ohs</td>\n",
       "      <td>Quaker Oats</td>\n",
       "      <td>C</td>\n",
       "      <td>120.0</td>\n",
       "      <td>1</td>\n",
       "      <td>220.0</td>\n",
       "      <td>45.0</td>\n",
       "      <td>25</td>\n",
       "    </tr>\n",
       "    <tr>\n",
       "      <th>35</th>\n",
       "      <td>Honey_Nut_Cheerios</td>\n",
       "      <td>General Mills</td>\n",
       "      <td>C</td>\n",
       "      <td>110.0</td>\n",
       "      <td>3</td>\n",
       "      <td>250.0</td>\n",
       "      <td>90.0</td>\n",
       "      <td>25</td>\n",
       "    </tr>\n",
       "    <tr>\n",
       "      <th>36</th>\n",
       "      <td>Honey-comb</td>\n",
       "      <td>Post</td>\n",
       "      <td>C</td>\n",
       "      <td>110.0</td>\n",
       "      <td>1</td>\n",
       "      <td>180.0</td>\n",
       "      <td>35.0</td>\n",
       "      <td>25</td>\n",
       "    </tr>\n",
       "    <tr>\n",
       "      <th>37</th>\n",
       "      <td>Just_Right_Crunchy__Nuggets</td>\n",
       "      <td>Kelloggs</td>\n",
       "      <td>C</td>\n",
       "      <td>110.0</td>\n",
       "      <td>2</td>\n",
       "      <td>170.0</td>\n",
       "      <td>60.0</td>\n",
       "      <td>100</td>\n",
       "    </tr>\n",
       "    <tr>\n",
       "      <th>38</th>\n",
       "      <td>Just_Right_Fruit_&amp;_Nut</td>\n",
       "      <td>Kelloggs</td>\n",
       "      <td>NaN</td>\n",
       "      <td>140.0</td>\n",
       "      <td>3</td>\n",
       "      <td>170.0</td>\n",
       "      <td>95.0</td>\n",
       "      <td>100</td>\n",
       "    </tr>\n",
       "    <tr>\n",
       "      <th>39</th>\n",
       "      <td>Kix</td>\n",
       "      <td>General Mills</td>\n",
       "      <td>C</td>\n",
       "      <td>110.0</td>\n",
       "      <td>2</td>\n",
       "      <td>260.0</td>\n",
       "      <td>40.0</td>\n",
       "      <td>25</td>\n",
       "    </tr>\n",
       "    <tr>\n",
       "      <th>40</th>\n",
       "      <td>Life</td>\n",
       "      <td>Quaker Oats</td>\n",
       "      <td>C</td>\n",
       "      <td>100.0</td>\n",
       "      <td>4</td>\n",
       "      <td>150.0</td>\n",
       "      <td>95.0</td>\n",
       "      <td>25</td>\n",
       "    </tr>\n",
       "    <tr>\n",
       "      <th>41</th>\n",
       "      <td>Lucky_Charms</td>\n",
       "      <td>General Mills</td>\n",
       "      <td>C</td>\n",
       "      <td>110.0</td>\n",
       "      <td>2</td>\n",
       "      <td>180.0</td>\n",
       "      <td>55.0</td>\n",
       "      <td>25</td>\n",
       "    </tr>\n",
       "    <tr>\n",
       "      <th>42</th>\n",
       "      <td>Maypo</td>\n",
       "      <td>American Home Food Products</td>\n",
       "      <td>H</td>\n",
       "      <td>100.0</td>\n",
       "      <td>4</td>\n",
       "      <td>0.0</td>\n",
       "      <td>95.0</td>\n",
       "      <td>25</td>\n",
       "    </tr>\n",
       "    <tr>\n",
       "      <th>43</th>\n",
       "      <td>Mueslix_Crispy_Blend</td>\n",
       "      <td>Kelloggs</td>\n",
       "      <td>C</td>\n",
       "      <td>160.0</td>\n",
       "      <td>3</td>\n",
       "      <td>150.0</td>\n",
       "      <td>160.0</td>\n",
       "      <td>25</td>\n",
       "    </tr>\n",
       "    <tr>\n",
       "      <th>44</th>\n",
       "      <td>Multi-Grain_Cheerios</td>\n",
       "      <td>General Mills</td>\n",
       "      <td>C</td>\n",
       "      <td>100.0</td>\n",
       "      <td>2</td>\n",
       "      <td>220.0</td>\n",
       "      <td>90.0</td>\n",
       "      <td>25</td>\n",
       "    </tr>\n",
       "    <tr>\n",
       "      <th>45</th>\n",
       "      <td>Nut&amp;Honey_Crunch</td>\n",
       "      <td>Kelloggs</td>\n",
       "      <td>C</td>\n",
       "      <td>120.0</td>\n",
       "      <td>2</td>\n",
       "      <td>190.0</td>\n",
       "      <td>40.0</td>\n",
       "      <td>25</td>\n",
       "    </tr>\n",
       "    <tr>\n",
       "      <th>46</th>\n",
       "      <td>Nutri-Grain_Almond-Raisin</td>\n",
       "      <td>Kelloggs</td>\n",
       "      <td>C</td>\n",
       "      <td>140.0</td>\n",
       "      <td>3</td>\n",
       "      <td>220.0</td>\n",
       "      <td>130.0</td>\n",
       "      <td>25</td>\n",
       "    </tr>\n",
       "    <tr>\n",
       "      <th>47</th>\n",
       "      <td>Nutri-grain_Wheat</td>\n",
       "      <td>Kelloggs</td>\n",
       "      <td>C</td>\n",
       "      <td>90.0</td>\n",
       "      <td>3</td>\n",
       "      <td>170.0</td>\n",
       "      <td>90.0</td>\n",
       "      <td>25</td>\n",
       "    </tr>\n",
       "    <tr>\n",
       "      <th>48</th>\n",
       "      <td>Oatmeal_Raisin_Crisp</td>\n",
       "      <td>General Mills</td>\n",
       "      <td>C</td>\n",
       "      <td>130.0</td>\n",
       "      <td>3</td>\n",
       "      <td>170.0</td>\n",
       "      <td>120.0</td>\n",
       "      <td>25</td>\n",
       "    </tr>\n",
       "    <tr>\n",
       "      <th>49</th>\n",
       "      <td>Post_Nat._Raisin_Bran</td>\n",
       "      <td>Post</td>\n",
       "      <td>C</td>\n",
       "      <td>120.0</td>\n",
       "      <td>3</td>\n",
       "      <td>200.0</td>\n",
       "      <td>260.0</td>\n",
       "      <td>25</td>\n",
       "    </tr>\n",
       "  </tbody>\n",
       "</table>\n",
       "</div>"
      ],
      "text/plain": [
       "                           Name                        Manuf Type  Calories  \\\n",
       "0                     100%_Bran                      Nabisco    C      70.0   \n",
       "1             100%_Natural_Bran                  Quaker Oats    C     120.0   \n",
       "2                      All-Bran                     Kelloggs    C      70.0   \n",
       "3     All-Bran_with_Extra_Fiber                     Kelloggs    C      50.0   \n",
       "4                Almond_Delight               Ralston Purina    C     110.0   \n",
       "5       Apple_Cinnamon_Cheerios                General Mills    C     110.0   \n",
       "6                   Apple_Jacks                     Kelloggs    C     110.0   \n",
       "7                       Basic_4                General Mills    C     130.0   \n",
       "8                     Bran_Chex               Ralston Purina    C       NaN   \n",
       "9                   Bran_Flakes                         Post    C       NaN   \n",
       "10                 Cap'n'Crunch                  Quaker Oats    C     120.0   \n",
       "11                     Cheerios                General Mills    C     110.0   \n",
       "12        Cinnamon_Toast_Crunch                General Mills    C     120.0   \n",
       "13                     Clusters                General Mills    C     110.0   \n",
       "14                  Cocoa_Puffs                General Mills    C     110.0   \n",
       "15                    Corn_Chex               Ralston Purina    C     110.0   \n",
       "16                  Corn_Flakes                     Kelloggs    C     100.0   \n",
       "17                    Corn_Pops                     Kelloggs    C     110.0   \n",
       "18                Count_Chocula                General Mills    C     110.0   \n",
       "19           Cracklin'_Oat_Bran                     Kelloggs    C     110.0   \n",
       "20       Cream_of_Wheat_(Quick)                      Nabisco  NaN     100.0   \n",
       "21                      Crispix                     Kelloggs    C     110.0   \n",
       "22       Crispy_Wheat_&_Raisins                General Mills    C     100.0   \n",
       "23                  Double_Chex               Ralston Purina    C     100.0   \n",
       "24                  Froot_Loops                     Kelloggs    C     110.0   \n",
       "25               Frosted_Flakes                     Kelloggs    C     110.0   \n",
       "26          Frosted_Mini-Wheats                     Kelloggs    C     100.0   \n",
       "27                Fruitful_Bran                     Kelloggs    C     120.0   \n",
       "28               Fruity_Pebbles                         Post    C     110.0   \n",
       "29                 Golden_Crisp                         Post    C     100.0   \n",
       "30               Golden_Grahams                General Mills    C     110.0   \n",
       "31            Grape_Nuts_Flakes                         Post    C     100.0   \n",
       "32                   Grape-Nuts                         Post    C     110.0   \n",
       "33           Great_Grains_Pecan                         Post    C     120.0   \n",
       "34             Honey_Graham_Ohs                  Quaker Oats    C     120.0   \n",
       "35           Honey_Nut_Cheerios                General Mills    C     110.0   \n",
       "36                   Honey-comb                         Post    C     110.0   \n",
       "37  Just_Right_Crunchy__Nuggets                     Kelloggs    C     110.0   \n",
       "38       Just_Right_Fruit_&_Nut                     Kelloggs  NaN     140.0   \n",
       "39                          Kix                General Mills    C     110.0   \n",
       "40                         Life                  Quaker Oats    C     100.0   \n",
       "41                 Lucky_Charms                General Mills    C     110.0   \n",
       "42                        Maypo  American Home Food Products    H     100.0   \n",
       "43         Mueslix_Crispy_Blend                     Kelloggs    C     160.0   \n",
       "44         Multi-Grain_Cheerios                General Mills    C     100.0   \n",
       "45             Nut&Honey_Crunch                     Kelloggs    C     120.0   \n",
       "46    Nutri-Grain_Almond-Raisin                     Kelloggs    C     140.0   \n",
       "47            Nutri-grain_Wheat                     Kelloggs    C      90.0   \n",
       "48         Oatmeal_Raisin_Crisp                General Mills    C     130.0   \n",
       "49        Post_Nat._Raisin_Bran                         Post    C     120.0   \n",
       "\n",
       "    Protein  Sodium  Potass  Vitamins  \n",
       "0         4   130.0   280.0        25  \n",
       "1         3    15.0   135.0         0  \n",
       "2         4   260.0   320.0        25  \n",
       "3         4   140.0   330.0        25  \n",
       "4         2   200.0     NaN        25  \n",
       "5         2   180.0    70.0        25  \n",
       "6         2   125.0    30.0        25  \n",
       "7         3   210.0   100.0        25  \n",
       "8         2   200.0   125.0        25  \n",
       "9         3     NaN   190.0        25  \n",
       "10        1   220.0    35.0        25  \n",
       "11        6   290.0   105.0        25  \n",
       "12        1   210.0    45.0        25  \n",
       "13        3   140.0   105.0        25  \n",
       "14        1   180.0    55.0        25  \n",
       "15        2   280.0    25.0        25  \n",
       "16        2   290.0    35.0        25  \n",
       "17        1    90.0    20.0        25  \n",
       "18        1   180.0    65.0        25  \n",
       "19        3   140.0   160.0        25  \n",
       "20        3    80.0     NaN         0  \n",
       "21        2   220.0    30.0        25  \n",
       "22        2   140.0   120.0        25  \n",
       "23        2   190.0    80.0        25  \n",
       "24        2   125.0    30.0        25  \n",
       "25        1   200.0    25.0        25  \n",
       "26        3     0.0   100.0        25  \n",
       "27        3   240.0   190.0        25  \n",
       "28        1   135.0    25.0        25  \n",
       "29        2    45.0    40.0        25  \n",
       "30        1   280.0    45.0        25  \n",
       "31        3   140.0    85.0        25  \n",
       "32        3   170.0    90.0        25  \n",
       "33        3    75.0   100.0        25  \n",
       "34        1   220.0    45.0        25  \n",
       "35        3   250.0    90.0        25  \n",
       "36        1   180.0    35.0        25  \n",
       "37        2   170.0    60.0       100  \n",
       "38        3   170.0    95.0       100  \n",
       "39        2   260.0    40.0        25  \n",
       "40        4   150.0    95.0        25  \n",
       "41        2   180.0    55.0        25  \n",
       "42        4     0.0    95.0        25  \n",
       "43        3   150.0   160.0        25  \n",
       "44        2   220.0    90.0        25  \n",
       "45        2   190.0    40.0        25  \n",
       "46        3   220.0   130.0        25  \n",
       "47        3   170.0    90.0        25  \n",
       "48        3   170.0   120.0        25  \n",
       "49        3   200.0   260.0        25  "
      ]
     },
     "execution_count": 84,
     "metadata": {},
     "output_type": "execute_result"
    }
   ],
   "source": [
    "DFSCereal"
   ]
  },
  {
   "cell_type": "markdown",
   "metadata": {},
   "source": [
    "# OBTENER LOS VALORES PARA LAS OPERACIONES CON LOS DATOS"
   ]
  },
  {
   "cell_type": "code",
   "execution_count": 85,
   "metadata": {},
   "outputs": [
    {
     "data": {
      "text/plain": [
       "array([ 70., 120.,  70.,  50., 110., 110., 110., 130.,  nan,  nan, 120.,\n",
       "       110., 120., 110., 110., 110., 100., 110., 110., 110., 100., 110.,\n",
       "       100., 100., 110., 110., 100., 120., 110., 100., 110., 100., 110.,\n",
       "       120., 120., 110., 110., 110., 140., 110., 100., 110., 100., 160.,\n",
       "       100., 120., 140.,  90., 130., 120.])"
      ]
     },
     "execution_count": 85,
     "metadata": {},
     "output_type": "execute_result"
    }
   ],
   "source": [
    "\"\"\" valores de calories \"\"\"\n",
    "\n",
    "calories_values = DFSCereal['Calories'].values\n",
    "calories_values"
   ]
  },
  {
   "cell_type": "code",
   "execution_count": 86,
   "metadata": {},
   "outputs": [
    {
     "data": {
      "text/plain": [
       "array([130.,  15., 260., 140., 200., 180., 125., 210., 200.,  nan, 220.,\n",
       "       290., 210., 140., 180., 280., 290.,  90., 180., 140.,  80., 220.,\n",
       "       140., 190., 125., 200.,   0., 240., 135.,  45., 280., 140., 170.,\n",
       "        75., 220., 250., 180., 170., 170., 260., 150., 180.,   0., 150.,\n",
       "       220., 190., 220., 170., 170., 200.])"
      ]
     },
     "execution_count": 86,
     "metadata": {},
     "output_type": "execute_result"
    }
   ],
   "source": [
    "\"\"\" valores del sodio \"\"\"\n",
    "\n",
    "sodium_values = DFSCereal[\"Sodium\"].values\n",
    "sodium_values"
   ]
  },
  {
   "cell_type": "markdown",
   "metadata": {},
   "source": [
    "# Raiz cuadrada con np, pandas y comparar resultados (Columna Calorias)"
   ]
  },
  {
   "cell_type": "code",
   "execution_count": 87,
   "metadata": {},
   "outputs": [],
   "source": [
    "\"\"\" raiz cuadrada con np \"\"\"\n",
    "\n",
    "raiz_calories = np.sqrt(calories_values)\n",
    "\n",
    "\n",
    "\"\"\" raiz cuadrada con pandas \"\"\"\n",
    "\n",
    "\n",
    "raiz_calories_pd = DFSCereal[\"Calories\"].apply(np.sqrt).values"
   ]
  },
  {
   "cell_type": "code",
   "execution_count": 88,
   "metadata": {},
   "outputs": [
    {
     "data": {
      "text/plain": [
       "array([ 8.36660027, 10.95445115,  8.36660027,  7.07106781, 10.48808848,\n",
       "       10.48808848, 10.48808848, 11.40175425,         nan,         nan,\n",
       "       10.95445115, 10.48808848, 10.95445115, 10.48808848, 10.48808848,\n",
       "       10.48808848, 10.        , 10.48808848, 10.48808848, 10.48808848,\n",
       "       10.        , 10.48808848, 10.        , 10.        , 10.48808848,\n",
       "       10.48808848, 10.        , 10.95445115, 10.48808848, 10.        ,\n",
       "       10.48808848, 10.        , 10.48808848, 10.95445115, 10.95445115,\n",
       "       10.48808848, 10.48808848, 10.48808848, 11.83215957, 10.48808848,\n",
       "       10.        , 10.48808848, 10.        , 12.64911064, 10.        ,\n",
       "       10.95445115, 11.83215957,  9.48683298, 11.40175425, 10.95445115])"
      ]
     },
     "execution_count": 88,
     "metadata": {},
     "output_type": "execute_result"
    }
   ],
   "source": [
    "raiz_calories"
   ]
  },
  {
   "cell_type": "code",
   "execution_count": 89,
   "metadata": {},
   "outputs": [
    {
     "data": {
      "text/plain": [
       "array([ 8.36660027, 10.95445115,  8.36660027,  7.07106781, 10.48808848,\n",
       "       10.48808848, 10.48808848, 11.40175425,         nan,         nan,\n",
       "       10.95445115, 10.48808848, 10.95445115, 10.48808848, 10.48808848,\n",
       "       10.48808848, 10.        , 10.48808848, 10.48808848, 10.48808848,\n",
       "       10.        , 10.48808848, 10.        , 10.        , 10.48808848,\n",
       "       10.48808848, 10.        , 10.95445115, 10.48808848, 10.        ,\n",
       "       10.48808848, 10.        , 10.48808848, 10.95445115, 10.95445115,\n",
       "       10.48808848, 10.48808848, 10.48808848, 11.83215957, 10.48808848,\n",
       "       10.        , 10.48808848, 10.        , 12.64911064, 10.        ,\n",
       "       10.95445115, 11.83215957,  9.48683298, 11.40175425, 10.95445115])"
      ]
     },
     "execution_count": 89,
     "metadata": {},
     "output_type": "execute_result"
    }
   ],
   "source": [
    "raiz_calories_pd"
   ]
  },
  {
   "cell_type": "code",
   "execution_count": 90,
   "metadata": {},
   "outputs": [
    {
     "data": {
      "text/plain": [
       "array([ True,  True,  True,  True,  True,  True,  True,  True, False,\n",
       "       False,  True,  True,  True,  True,  True,  True,  True,  True,\n",
       "        True,  True,  True,  True,  True,  True,  True,  True,  True,\n",
       "        True,  True,  True,  True,  True,  True,  True,  True,  True,\n",
       "        True,  True,  True,  True,  True,  True,  True,  True,  True,\n",
       "        True,  True,  True,  True,  True])"
      ]
     },
     "execution_count": 90,
     "metadata": {},
     "output_type": "execute_result"
    }
   ],
   "source": [
    "raiz_calories == raiz_calories_pd"
   ]
  },
  {
   "cell_type": "markdown",
   "metadata": {},
   "source": [
    "## Raiz cuadrada con np y pd y comprara los resultados (columna de Sodium)"
   ]
  },
  {
   "cell_type": "code",
   "execution_count": 91,
   "metadata": {},
   "outputs": [],
   "source": [
    "\"\"\" raiz cuadrda con np \"\"\"\n",
    "\n",
    "\n",
    "raiz_sodium = np.sqrt(sodium_values)\n",
    "\n",
    "\"\"\" raiz cuadrada con pd \"\"\"\n",
    "\n",
    "raiz_sodium_pd = DFSCereal[\"Sodium\"].apply(np.sqrt).values"
   ]
  },
  {
   "cell_type": "code",
   "execution_count": 92,
   "metadata": {},
   "outputs": [
    {
     "data": {
      "text/plain": [
       "array([11.40175425,  3.87298335, 16.1245155 , 11.83215957, 14.14213562,\n",
       "       13.41640786, 11.18033989, 14.49137675, 14.14213562,         nan,\n",
       "       14.83239697, 17.02938637, 14.49137675, 11.83215957, 13.41640786,\n",
       "       16.73320053, 17.02938637,  9.48683298, 13.41640786, 11.83215957,\n",
       "        8.94427191, 14.83239697, 11.83215957, 13.78404875, 11.18033989,\n",
       "       14.14213562,  0.        , 15.49193338, 11.61895004,  6.70820393,\n",
       "       16.73320053, 11.83215957, 13.03840481,  8.66025404, 14.83239697,\n",
       "       15.8113883 , 13.41640786, 13.03840481, 13.03840481, 16.1245155 ,\n",
       "       12.24744871, 13.41640786,  0.        , 12.24744871, 14.83239697,\n",
       "       13.78404875, 14.83239697, 13.03840481, 13.03840481, 14.14213562])"
      ]
     },
     "execution_count": 92,
     "metadata": {},
     "output_type": "execute_result"
    }
   ],
   "source": [
    "raiz_sodium"
   ]
  },
  {
   "cell_type": "code",
   "execution_count": 93,
   "metadata": {},
   "outputs": [
    {
     "data": {
      "text/plain": [
       "array([11.40175425,  3.87298335, 16.1245155 , 11.83215957, 14.14213562,\n",
       "       13.41640786, 11.18033989, 14.49137675, 14.14213562,         nan,\n",
       "       14.83239697, 17.02938637, 14.49137675, 11.83215957, 13.41640786,\n",
       "       16.73320053, 17.02938637,  9.48683298, 13.41640786, 11.83215957,\n",
       "        8.94427191, 14.83239697, 11.83215957, 13.78404875, 11.18033989,\n",
       "       14.14213562,  0.        , 15.49193338, 11.61895004,  6.70820393,\n",
       "       16.73320053, 11.83215957, 13.03840481,  8.66025404, 14.83239697,\n",
       "       15.8113883 , 13.41640786, 13.03840481, 13.03840481, 16.1245155 ,\n",
       "       12.24744871, 13.41640786,  0.        , 12.24744871, 14.83239697,\n",
       "       13.78404875, 14.83239697, 13.03840481, 13.03840481, 14.14213562])"
      ]
     },
     "execution_count": 93,
     "metadata": {},
     "output_type": "execute_result"
    }
   ],
   "source": [
    "raiz_sodium_pd"
   ]
  },
  {
   "cell_type": "code",
   "execution_count": 94,
   "metadata": {},
   "outputs": [
    {
     "data": {
      "text/plain": [
       "array([ True,  True,  True,  True,  True,  True,  True,  True,  True,\n",
       "       False,  True,  True,  True,  True,  True,  True,  True,  True,\n",
       "        True,  True,  True,  True,  True,  True,  True,  True,  True,\n",
       "        True,  True,  True,  True,  True,  True,  True,  True,  True,\n",
       "        True,  True,  True,  True,  True,  True,  True,  True,  True,\n",
       "        True,  True,  True,  True,  True])"
      ]
     },
     "execution_count": 94,
     "metadata": {},
     "output_type": "execute_result"
    }
   ],
   "source": [
    "raiz_sodium == raiz_sodium_pd"
   ]
  },
  {
   "cell_type": "markdown",
   "metadata": {},
   "source": [
    "# Calcular la media con np y con pd (columna de calories)"
   ]
  },
  {
   "cell_type": "code",
   "execution_count": 95,
   "metadata": {},
   "outputs": [
    {
     "data": {
      "text/plain": [
       "nan"
      ]
     },
     "execution_count": 95,
     "metadata": {},
     "output_type": "execute_result"
    }
   ],
   "source": [
    "media_calories_np = np.mean(calories_values)\n",
    "media_calories_np"
   ]
  },
  {
   "cell_type": "code",
   "execution_count": 96,
   "metadata": {},
   "outputs": [
    {
     "data": {
      "text/plain": [
       "109.375"
      ]
     },
     "execution_count": 96,
     "metadata": {},
     "output_type": "execute_result"
    }
   ],
   "source": [
    "media_calories_pd = DFSCereal[\"Calories\"].mean()\n",
    "media_calories_pd"
   ]
  },
  {
   "cell_type": "code",
   "execution_count": 97,
   "metadata": {},
   "outputs": [
    {
     "data": {
      "text/plain": [
       "False"
      ]
     },
     "execution_count": 97,
     "metadata": {},
     "output_type": "execute_result"
    }
   ],
   "source": [
    "\"\"\" compracion \"\"\"\n",
    "media_calories_np == media_calories_pd"
   ]
  },
  {
   "cell_type": "markdown",
   "metadata": {},
   "source": [
    "# Calcular la media con np y pd (columna de Sodium)"
   ]
  },
  {
   "cell_type": "code",
   "execution_count": 98,
   "metadata": {},
   "outputs": [
    {
     "data": {
      "text/plain": [
       "nan"
      ]
     },
     "execution_count": 98,
     "metadata": {},
     "output_type": "execute_result"
    }
   ],
   "source": [
    "media_sodium_np = np.mean(sodium_values)\n",
    "media_sodium_np"
   ]
  },
  {
   "cell_type": "code",
   "execution_count": 99,
   "metadata": {},
   "outputs": [
    {
     "data": {
      "text/plain": [
       "171.83673469387756"
      ]
     },
     "execution_count": 99,
     "metadata": {},
     "output_type": "execute_result"
    }
   ],
   "source": [
    "media_sodium_pd = DFSCereal[\"Sodium\"].mean()\n",
    "media_sodium_pd"
   ]
  },
  {
   "cell_type": "code",
   "execution_count": 100,
   "metadata": {},
   "outputs": [
    {
     "data": {
      "text/plain": [
       "False"
      ]
     },
     "execution_count": 100,
     "metadata": {},
     "output_type": "execute_result"
    }
   ],
   "source": [
    "\"\"\" compracion \"\"\"\n",
    "media_sodium_pd == media_sodium_np"
   ]
  },
  {
   "cell_type": "markdown",
   "metadata": {},
   "source": [
    "# Calculo de mediana con np y con pd (columna calories)"
   ]
  },
  {
   "cell_type": "code",
   "execution_count": 101,
   "metadata": {},
   "outputs": [
    {
     "data": {
      "text/plain": [
       "nan"
      ]
     },
     "execution_count": 101,
     "metadata": {},
     "output_type": "execute_result"
    }
   ],
   "source": [
    "mediana_calories_np = np.median(calories_values)\n",
    "mediana_calories_np"
   ]
  },
  {
   "cell_type": "code",
   "execution_count": 102,
   "metadata": {},
   "outputs": [
    {
     "data": {
      "text/plain": [
       "110.0"
      ]
     },
     "execution_count": 102,
     "metadata": {},
     "output_type": "execute_result"
    }
   ],
   "source": [
    "mediana_calories_pd = DFSCereal[\"Calories\"].median()\n",
    "mediana_calories_pd"
   ]
  },
  {
   "cell_type": "code",
   "execution_count": 103,
   "metadata": {},
   "outputs": [
    {
     "data": {
      "text/plain": [
       "False"
      ]
     },
     "execution_count": 103,
     "metadata": {},
     "output_type": "execute_result"
    }
   ],
   "source": [
    "\"\"\" comparar resultados \"\"\"\n",
    "\n",
    "mediana_calories_np == mediana_calories_pd"
   ]
  },
  {
   "cell_type": "markdown",
   "metadata": {},
   "source": [
    "# calculo de mediana con np y pd (columna sodium)"
   ]
  },
  {
   "cell_type": "code",
   "execution_count": 104,
   "metadata": {},
   "outputs": [
    {
     "data": {
      "text/plain": [
       "nan"
      ]
     },
     "execution_count": 104,
     "metadata": {},
     "output_type": "execute_result"
    }
   ],
   "source": [
    "mediana_sodium_np = np.median(sodium_values)\n",
    "mediana_sodium_np"
   ]
  },
  {
   "cell_type": "code",
   "execution_count": 105,
   "metadata": {},
   "outputs": [
    {
     "data": {
      "text/plain": [
       "180.0"
      ]
     },
     "execution_count": 105,
     "metadata": {},
     "output_type": "execute_result"
    }
   ],
   "source": [
    "mediana_sodium_pd = DFSCereal[\"Sodium\"].median()\n",
    "mediana_sodium_pd"
   ]
  },
  {
   "cell_type": "code",
   "execution_count": 106,
   "metadata": {},
   "outputs": [
    {
     "data": {
      "text/plain": [
       "False"
      ]
     },
     "execution_count": 106,
     "metadata": {},
     "output_type": "execute_result"
    }
   ],
   "source": [
    "mediana_sodium_pd == mediana_sodium_np"
   ]
  },
  {
   "cell_type": "markdown",
   "metadata": {},
   "source": [
    "# Calculo de moda con pd y np (calories)"
   ]
  },
  {
   "cell_type": "code",
   "execution_count": 107,
   "metadata": {},
   "outputs": [
    {
     "data": {
      "text/plain": [
       "110.0"
      ]
     },
     "execution_count": 107,
     "metadata": {},
     "output_type": "execute_result"
    }
   ],
   "source": [
    "moda_calories_pd = DFSCereal[\"Calories\"].mode()\n",
    "moda_calories_pd = moda_calories_pd.values\n",
    "moda_calories_pd[0]"
   ]
  },
  {
   "cell_type": "code",
   "execution_count": 108,
   "metadata": {},
   "outputs": [
    {
     "data": {
      "text/plain": [
       "110.0"
      ]
     },
     "execution_count": 108,
     "metadata": {},
     "output_type": "execute_result"
    }
   ],
   "source": [
    "valores_unicos, counts = np.unique(DFSCereal[\"Calories\"], return_counts=True)\n",
    "counter_max = np.argmax(counts)\n",
    "moda_calories_np = valores_unicos[counter_max]\n",
    "moda_calories_np"
   ]
  },
  {
   "cell_type": "code",
   "execution_count": 109,
   "metadata": {},
   "outputs": [
    {
     "data": {
      "text/plain": [
       "True"
      ]
     },
     "execution_count": 109,
     "metadata": {},
     "output_type": "execute_result"
    }
   ],
   "source": [
    "moda_calories_np == moda_calories_pd[0]"
   ]
  },
  {
   "cell_type": "markdown",
   "metadata": {},
   "source": [
    "# calculo de moda con pd y np de (sodium)"
   ]
  },
  {
   "cell_type": "code",
   "execution_count": 110,
   "metadata": {},
   "outputs": [
    {
     "data": {
      "text/plain": [
       "140.0"
      ]
     },
     "execution_count": 110,
     "metadata": {},
     "output_type": "execute_result"
    }
   ],
   "source": [
    "valores_unicos, counts = np.unique(DFSCereal[\"Sodium\"], return_counts=True)\n",
    "counter_max = np.argmax(counts)\n",
    "moda_sodium_np = valores_unicos[counter_max]\n",
    "moda_sodium_np"
   ]
  },
  {
   "cell_type": "code",
   "execution_count": 111,
   "metadata": {},
   "outputs": [
    {
     "data": {
      "text/plain": [
       "140.0"
      ]
     },
     "execution_count": 111,
     "metadata": {},
     "output_type": "execute_result"
    }
   ],
   "source": [
    "moda_sodium_pd = DFSCereal[\"Sodium\"].mode()\n",
    "moda_sodium_pd = moda_sodium_pd.values\n",
    "moda_sodium_pd[0]"
   ]
  },
  {
   "cell_type": "code",
   "execution_count": 112,
   "metadata": {},
   "outputs": [
    {
     "data": {
      "text/plain": [
       "True"
      ]
     },
     "execution_count": 112,
     "metadata": {},
     "output_type": "execute_result"
    }
   ],
   "source": [
    "moda_sodium_np == moda_sodium_pd[0]"
   ]
  },
  {
   "cell_type": "markdown",
   "metadata": {},
   "source": [
    "# Sutitur valores nulos (por moda o media) en DF original"
   ]
  },
  {
   "cell_type": "code",
   "execution_count": 113,
   "metadata": {},
   "outputs": [
    {
     "data": {
      "text/html": [
       "<div>\n",
       "<style scoped>\n",
       "    .dataframe tbody tr th:only-of-type {\n",
       "        vertical-align: middle;\n",
       "    }\n",
       "\n",
       "    .dataframe tbody tr th {\n",
       "        vertical-align: top;\n",
       "    }\n",
       "\n",
       "    .dataframe thead th {\n",
       "        text-align: right;\n",
       "    }\n",
       "</style>\n",
       "<table border=\"1\" class=\"dataframe\">\n",
       "  <thead>\n",
       "    <tr style=\"text-align: right;\">\n",
       "      <th></th>\n",
       "      <th>Name</th>\n",
       "      <th>Manuf</th>\n",
       "      <th>Type</th>\n",
       "      <th>Calories</th>\n",
       "      <th>Protein</th>\n",
       "      <th>Fat</th>\n",
       "      <th>Sodium</th>\n",
       "      <th>Dietary Fiber</th>\n",
       "      <th>Carbs</th>\n",
       "      <th>Sugars</th>\n",
       "      <th>Display Shelf</th>\n",
       "      <th>Potass</th>\n",
       "      <th>Vitamins</th>\n",
       "      <th>Serving Size Weight</th>\n",
       "      <th>Cups per Serving</th>\n",
       "    </tr>\n",
       "  </thead>\n",
       "  <tbody>\n",
       "    <tr>\n",
       "      <th>0</th>\n",
       "      <td>100%_Bran</td>\n",
       "      <td>Nabisco</td>\n",
       "      <td>C</td>\n",
       "      <td>70.0</td>\n",
       "      <td>4</td>\n",
       "      <td>1.0</td>\n",
       "      <td>130.0</td>\n",
       "      <td>10.0</td>\n",
       "      <td>5.0</td>\n",
       "      <td>6.0</td>\n",
       "      <td>3.0</td>\n",
       "      <td>280.0</td>\n",
       "      <td>25</td>\n",
       "      <td>1.0</td>\n",
       "      <td>0.33</td>\n",
       "    </tr>\n",
       "    <tr>\n",
       "      <th>1</th>\n",
       "      <td>100%_Natural_Bran</td>\n",
       "      <td>Quaker Oats</td>\n",
       "      <td>C</td>\n",
       "      <td>120.0</td>\n",
       "      <td>3</td>\n",
       "      <td>5.0</td>\n",
       "      <td>15.0</td>\n",
       "      <td>2.0</td>\n",
       "      <td>8.0</td>\n",
       "      <td>8.0</td>\n",
       "      <td>3.0</td>\n",
       "      <td>135.0</td>\n",
       "      <td>0</td>\n",
       "      <td>1.0</td>\n",
       "      <td>-1.00</td>\n",
       "    </tr>\n",
       "    <tr>\n",
       "      <th>2</th>\n",
       "      <td>All-Bran</td>\n",
       "      <td>Kelloggs</td>\n",
       "      <td>C</td>\n",
       "      <td>70.0</td>\n",
       "      <td>4</td>\n",
       "      <td>1.0</td>\n",
       "      <td>260.0</td>\n",
       "      <td>9.0</td>\n",
       "      <td>7.0</td>\n",
       "      <td>5.0</td>\n",
       "      <td>3.0</td>\n",
       "      <td>320.0</td>\n",
       "      <td>25</td>\n",
       "      <td>1.0</td>\n",
       "      <td>0.33</td>\n",
       "    </tr>\n",
       "    <tr>\n",
       "      <th>3</th>\n",
       "      <td>All-Bran_with_Extra_Fiber</td>\n",
       "      <td>Kelloggs</td>\n",
       "      <td>C</td>\n",
       "      <td>50.0</td>\n",
       "      <td>4</td>\n",
       "      <td>NaN</td>\n",
       "      <td>140.0</td>\n",
       "      <td>14.0</td>\n",
       "      <td>8.0</td>\n",
       "      <td>NaN</td>\n",
       "      <td>3.0</td>\n",
       "      <td>330.0</td>\n",
       "      <td>25</td>\n",
       "      <td>1.0</td>\n",
       "      <td>0.50</td>\n",
       "    </tr>\n",
       "    <tr>\n",
       "      <th>4</th>\n",
       "      <td>Almond_Delight</td>\n",
       "      <td>Ralston Purina</td>\n",
       "      <td>C</td>\n",
       "      <td>110.0</td>\n",
       "      <td>2</td>\n",
       "      <td>2.0</td>\n",
       "      <td>200.0</td>\n",
       "      <td>1.0</td>\n",
       "      <td>14.0</td>\n",
       "      <td>8.0</td>\n",
       "      <td>3.0</td>\n",
       "      <td>NaN</td>\n",
       "      <td>25</td>\n",
       "      <td>1.0</td>\n",
       "      <td>0.75</td>\n",
       "    </tr>\n",
       "  </tbody>\n",
       "</table>\n",
       "</div>"
      ],
      "text/plain": [
       "                        Name           Manuf Type  Calories  Protein  Fat  \\\n",
       "0                  100%_Bran         Nabisco    C      70.0        4  1.0   \n",
       "1          100%_Natural_Bran     Quaker Oats    C     120.0        3  5.0   \n",
       "2                   All-Bran        Kelloggs    C      70.0        4  1.0   \n",
       "3  All-Bran_with_Extra_Fiber        Kelloggs    C      50.0        4  NaN   \n",
       "4             Almond_Delight  Ralston Purina    C     110.0        2  2.0   \n",
       "\n",
       "   Sodium  Dietary Fiber  Carbs  Sugars  Display Shelf  Potass  Vitamins  \\\n",
       "0   130.0           10.0    5.0     6.0            3.0   280.0        25   \n",
       "1    15.0            2.0    8.0     8.0            3.0   135.0         0   \n",
       "2   260.0            9.0    7.0     5.0            3.0   320.0        25   \n",
       "3   140.0           14.0    8.0     NaN            3.0   330.0        25   \n",
       "4   200.0            1.0   14.0     8.0            3.0     NaN        25   \n",
       "\n",
       "   Serving Size Weight  Cups per Serving  \n",
       "0                  1.0              0.33  \n",
       "1                  1.0             -1.00  \n",
       "2                  1.0              0.33  \n",
       "3                  1.0              0.50  \n",
       "4                  1.0              0.75  "
      ]
     },
     "execution_count": 113,
     "metadata": {},
     "output_type": "execute_result"
    }
   ],
   "source": [
    "DFCereal.head()"
   ]
  },
  {
   "cell_type": "markdown",
   "metadata": {},
   "source": [
    "False = valores completos, sin valores nulos\n",
    "\n",
    "True = con valores nulos"
   ]
  },
  {
   "cell_type": "code",
   "execution_count": 114,
   "metadata": {},
   "outputs": [
    {
     "data": {
      "text/plain": [
       "False"
      ]
     },
     "execution_count": 114,
     "metadata": {},
     "output_type": "execute_result"
    }
   ],
   "source": [
    "DFCereal[\"Name\"].isnull().any()"
   ]
  },
  {
   "cell_type": "code",
   "execution_count": 115,
   "metadata": {},
   "outputs": [
    {
     "data": {
      "text/plain": [
       "False"
      ]
     },
     "execution_count": 115,
     "metadata": {},
     "output_type": "execute_result"
    }
   ],
   "source": [
    "DFCereal[\"Manuf\"].isnull().any()"
   ]
  },
  {
   "cell_type": "code",
   "execution_count": 116,
   "metadata": {},
   "outputs": [
    {
     "data": {
      "text/plain": [
       "True"
      ]
     },
     "execution_count": 116,
     "metadata": {},
     "output_type": "execute_result"
    }
   ],
   "source": [
    "DFCereal[\"Type\"].isnull().any()"
   ]
  },
  {
   "cell_type": "code",
   "execution_count": 117,
   "metadata": {},
   "outputs": [
    {
     "data": {
      "text/plain": [
       "'C'"
      ]
     },
     "execution_count": 117,
     "metadata": {},
     "output_type": "execute_result"
    }
   ],
   "source": [
    "moda_type = DFCereal[\"Type\"].mode()[0]\n",
    "moda_type"
   ]
  },
  {
   "cell_type": "code",
   "execution_count": 118,
   "metadata": {},
   "outputs": [
    {
     "data": {
      "text/plain": [
       "False"
      ]
     },
     "execution_count": 118,
     "metadata": {},
     "output_type": "execute_result"
    }
   ],
   "source": [
    "DFCereal[\"Type\"] = DFCereal[\"Type\"].fillna(moda_type)\n",
    "DFCereal[\"Type\"].isnull().any()"
   ]
  },
  {
   "cell_type": "code",
   "execution_count": 119,
   "metadata": {},
   "outputs": [
    {
     "data": {
      "text/plain": [
       "True"
      ]
     },
     "execution_count": 119,
     "metadata": {},
     "output_type": "execute_result"
    }
   ],
   "source": [
    "DFCereal[\"Calories\"].isnull().any()"
   ]
  },
  {
   "cell_type": "code",
   "execution_count": 120,
   "metadata": {},
   "outputs": [
    {
     "data": {
      "text/plain": [
       "105.97222222222223"
      ]
     },
     "execution_count": 120,
     "metadata": {},
     "output_type": "execute_result"
    }
   ],
   "source": [
    "media_calories = DFCereal['Calories'].mean()\n",
    "media_calories"
   ]
  },
  {
   "cell_type": "code",
   "execution_count": 121,
   "metadata": {},
   "outputs": [
    {
     "data": {
      "text/plain": [
       "False"
      ]
     },
     "execution_count": 121,
     "metadata": {},
     "output_type": "execute_result"
    }
   ],
   "source": [
    "DFCereal[\"Calories\"] = DFCereal[\"Calories\"].fillna(media_calories)\n",
    "DFCereal[\"Calories\"].isnull().any()"
   ]
  },
  {
   "cell_type": "code",
   "execution_count": 122,
   "metadata": {},
   "outputs": [
    {
     "data": {
      "text/plain": [
       "False"
      ]
     },
     "execution_count": 122,
     "metadata": {},
     "output_type": "execute_result"
    }
   ],
   "source": [
    "DFCereal[\"Protein\"].isnull().any()"
   ]
  },
  {
   "cell_type": "code",
   "execution_count": 123,
   "metadata": {},
   "outputs": [
    {
     "data": {
      "text/plain": [
       "True"
      ]
     },
     "execution_count": 123,
     "metadata": {},
     "output_type": "execute_result"
    }
   ],
   "source": [
    "DFCereal[\"Fat\"].isnull().any()"
   ]
  },
  {
   "cell_type": "code",
   "execution_count": 124,
   "metadata": {},
   "outputs": [
    {
     "data": {
      "text/plain": [
       "0.9722222222222222"
      ]
     },
     "execution_count": 124,
     "metadata": {},
     "output_type": "execute_result"
    }
   ],
   "source": [
    "media_fat = DFCereal[\"Fat\"].mean()\n",
    "media_fat"
   ]
  },
  {
   "cell_type": "code",
   "execution_count": 125,
   "metadata": {},
   "outputs": [
    {
     "data": {
      "text/plain": [
       "False"
      ]
     },
     "execution_count": 125,
     "metadata": {},
     "output_type": "execute_result"
    }
   ],
   "source": [
    "DFCereal[\"Fat\"] = DFCereal[\"Fat\"].fillna(media_fat)\n",
    "DFCereal[\"Fat\"].isnull().any()"
   ]
  },
  {
   "cell_type": "code",
   "execution_count": 126,
   "metadata": {},
   "outputs": [
    {
     "data": {
      "text/plain": [
       "True"
      ]
     },
     "execution_count": 126,
     "metadata": {},
     "output_type": "execute_result"
    }
   ],
   "source": [
    "DFCereal[\"Sodium\"].isnull().any()"
   ]
  },
  {
   "cell_type": "code",
   "execution_count": 127,
   "metadata": {},
   "outputs": [
    {
     "data": {
      "text/plain": [
       "160.0"
      ]
     },
     "execution_count": 127,
     "metadata": {},
     "output_type": "execute_result"
    }
   ],
   "source": [
    "media_sodium = DFCereal[\"Sodium\"].mean()\n",
    "media_sodium"
   ]
  },
  {
   "cell_type": "code",
   "execution_count": 128,
   "metadata": {},
   "outputs": [
    {
     "data": {
      "text/plain": [
       "False"
      ]
     },
     "execution_count": 128,
     "metadata": {},
     "output_type": "execute_result"
    }
   ],
   "source": [
    "DFCereal[\"Sodium\"] = DFCereal[\"Sodium\"].fillna(media_sodium)\n",
    "DFCereal[\"Sodium\"].isnull().any()"
   ]
  },
  {
   "cell_type": "code",
   "execution_count": 129,
   "metadata": {},
   "outputs": [
    {
     "data": {
      "text/plain": [
       "True"
      ]
     },
     "execution_count": 129,
     "metadata": {},
     "output_type": "execute_result"
    }
   ],
   "source": [
    "DFCereal[\"Dietary Fiber\"].isnull().any()"
   ]
  },
  {
   "cell_type": "code",
   "execution_count": 130,
   "metadata": {},
   "outputs": [
    {
     "data": {
      "text/plain": [
       "2.198550724637681"
      ]
     },
     "execution_count": 130,
     "metadata": {},
     "output_type": "execute_result"
    }
   ],
   "source": [
    "media_duetary = DFCereal[\"Dietary Fiber\"].mean()\n",
    "media_duetary"
   ]
  },
  {
   "cell_type": "code",
   "execution_count": 131,
   "metadata": {},
   "outputs": [
    {
     "data": {
      "text/plain": [
       "False"
      ]
     },
     "execution_count": 131,
     "metadata": {},
     "output_type": "execute_result"
    }
   ],
   "source": [
    "DFCereal[\"Dietary Fiber\"] = DFCereal[\"Dietary Fiber\"].fillna(media_duetary)\n",
    "DFCereal[\"Dietary Fiber\"].isnull().any()"
   ]
  },
  {
   "cell_type": "code",
   "execution_count": 132,
   "metadata": {},
   "outputs": [
    {
     "data": {
      "text/plain": [
       "True"
      ]
     },
     "execution_count": 132,
     "metadata": {},
     "output_type": "execute_result"
    }
   ],
   "source": [
    "DFCereal['Carbs'].isnull().any()"
   ]
  },
  {
   "cell_type": "code",
   "execution_count": 133,
   "metadata": {},
   "outputs": [
    {
     "data": {
      "text/plain": [
       "15.0"
      ]
     },
     "execution_count": 133,
     "metadata": {},
     "output_type": "execute_result"
    }
   ],
   "source": [
    "media_carbs = DFCereal['Carbs'].mean()\n",
    "media_carbs"
   ]
  },
  {
   "cell_type": "code",
   "execution_count": 134,
   "metadata": {},
   "outputs": [
    {
     "data": {
      "text/plain": [
       "False"
      ]
     },
     "execution_count": 134,
     "metadata": {},
     "output_type": "execute_result"
    }
   ],
   "source": [
    "DFCereal[\"Carbs\"] = DFCereal[\"Carbs\"].fillna(media_carbs)\n",
    "DFCereal[\"Carbs\"].isnull().any()"
   ]
  },
  {
   "cell_type": "code",
   "execution_count": 135,
   "metadata": {},
   "outputs": [
    {
     "data": {
      "text/plain": [
       "True"
      ]
     },
     "execution_count": 135,
     "metadata": {},
     "output_type": "execute_result"
    }
   ],
   "source": [
    "DFCereal[\"Sugars\"].isnull().any()"
   ]
  },
  {
   "cell_type": "code",
   "execution_count": 136,
   "metadata": {},
   "outputs": [
    {
     "data": {
      "text/plain": [
       "7.246376811594203"
      ]
     },
     "execution_count": 136,
     "metadata": {},
     "output_type": "execute_result"
    }
   ],
   "source": [
    "media_sugars = DFCereal['Sugars'].mean()\n",
    "media_sugars"
   ]
  },
  {
   "cell_type": "code",
   "execution_count": 137,
   "metadata": {},
   "outputs": [
    {
     "data": {
      "text/plain": [
       "False"
      ]
     },
     "execution_count": 137,
     "metadata": {},
     "output_type": "execute_result"
    }
   ],
   "source": [
    "DFCereal[\"Sugars\"] = DFCereal[\"Sugars\"].fillna(media_sugars)\n",
    "DFCereal[\"Sugars\"].isnull().any()"
   ]
  },
  {
   "cell_type": "code",
   "execution_count": 138,
   "metadata": {},
   "outputs": [
    {
     "data": {
      "text/html": [
       "<div>\n",
       "<style scoped>\n",
       "    .dataframe tbody tr th:only-of-type {\n",
       "        vertical-align: middle;\n",
       "    }\n",
       "\n",
       "    .dataframe tbody tr th {\n",
       "        vertical-align: top;\n",
       "    }\n",
       "\n",
       "    .dataframe thead th {\n",
       "        text-align: right;\n",
       "    }\n",
       "</style>\n",
       "<table border=\"1\" class=\"dataframe\">\n",
       "  <thead>\n",
       "    <tr style=\"text-align: right;\">\n",
       "      <th></th>\n",
       "      <th>Name</th>\n",
       "      <th>Manuf</th>\n",
       "      <th>Type</th>\n",
       "      <th>Calories</th>\n",
       "      <th>Protein</th>\n",
       "      <th>Fat</th>\n",
       "      <th>Sodium</th>\n",
       "      <th>Dietary Fiber</th>\n",
       "      <th>Carbs</th>\n",
       "      <th>Sugars</th>\n",
       "      <th>Display Shelf</th>\n",
       "      <th>Potass</th>\n",
       "      <th>Vitamins</th>\n",
       "      <th>Serving Size Weight</th>\n",
       "      <th>Cups per Serving</th>\n",
       "    </tr>\n",
       "  </thead>\n",
       "  <tbody>\n",
       "    <tr>\n",
       "      <th>0</th>\n",
       "      <td>100%_Bran</td>\n",
       "      <td>Nabisco</td>\n",
       "      <td>C</td>\n",
       "      <td>70.0</td>\n",
       "      <td>4</td>\n",
       "      <td>1.000000</td>\n",
       "      <td>130.0</td>\n",
       "      <td>10.0</td>\n",
       "      <td>5.0</td>\n",
       "      <td>6.000000</td>\n",
       "      <td>3.0</td>\n",
       "      <td>280.0</td>\n",
       "      <td>25</td>\n",
       "      <td>1.0</td>\n",
       "      <td>0.33</td>\n",
       "    </tr>\n",
       "    <tr>\n",
       "      <th>1</th>\n",
       "      <td>100%_Natural_Bran</td>\n",
       "      <td>Quaker Oats</td>\n",
       "      <td>C</td>\n",
       "      <td>120.0</td>\n",
       "      <td>3</td>\n",
       "      <td>5.000000</td>\n",
       "      <td>15.0</td>\n",
       "      <td>2.0</td>\n",
       "      <td>8.0</td>\n",
       "      <td>8.000000</td>\n",
       "      <td>3.0</td>\n",
       "      <td>135.0</td>\n",
       "      <td>0</td>\n",
       "      <td>1.0</td>\n",
       "      <td>-1.00</td>\n",
       "    </tr>\n",
       "    <tr>\n",
       "      <th>2</th>\n",
       "      <td>All-Bran</td>\n",
       "      <td>Kelloggs</td>\n",
       "      <td>C</td>\n",
       "      <td>70.0</td>\n",
       "      <td>4</td>\n",
       "      <td>1.000000</td>\n",
       "      <td>260.0</td>\n",
       "      <td>9.0</td>\n",
       "      <td>7.0</td>\n",
       "      <td>5.000000</td>\n",
       "      <td>3.0</td>\n",
       "      <td>320.0</td>\n",
       "      <td>25</td>\n",
       "      <td>1.0</td>\n",
       "      <td>0.33</td>\n",
       "    </tr>\n",
       "    <tr>\n",
       "      <th>3</th>\n",
       "      <td>All-Bran_with_Extra_Fiber</td>\n",
       "      <td>Kelloggs</td>\n",
       "      <td>C</td>\n",
       "      <td>50.0</td>\n",
       "      <td>4</td>\n",
       "      <td>0.972222</td>\n",
       "      <td>140.0</td>\n",
       "      <td>14.0</td>\n",
       "      <td>8.0</td>\n",
       "      <td>7.246377</td>\n",
       "      <td>3.0</td>\n",
       "      <td>330.0</td>\n",
       "      <td>25</td>\n",
       "      <td>1.0</td>\n",
       "      <td>0.50</td>\n",
       "    </tr>\n",
       "    <tr>\n",
       "      <th>4</th>\n",
       "      <td>Almond_Delight</td>\n",
       "      <td>Ralston Purina</td>\n",
       "      <td>C</td>\n",
       "      <td>110.0</td>\n",
       "      <td>2</td>\n",
       "      <td>2.000000</td>\n",
       "      <td>200.0</td>\n",
       "      <td>1.0</td>\n",
       "      <td>14.0</td>\n",
       "      <td>8.000000</td>\n",
       "      <td>3.0</td>\n",
       "      <td>NaN</td>\n",
       "      <td>25</td>\n",
       "      <td>1.0</td>\n",
       "      <td>0.75</td>\n",
       "    </tr>\n",
       "  </tbody>\n",
       "</table>\n",
       "</div>"
      ],
      "text/plain": [
       "                        Name           Manuf Type  Calories  Protein  \\\n",
       "0                  100%_Bran         Nabisco    C      70.0        4   \n",
       "1          100%_Natural_Bran     Quaker Oats    C     120.0        3   \n",
       "2                   All-Bran        Kelloggs    C      70.0        4   \n",
       "3  All-Bran_with_Extra_Fiber        Kelloggs    C      50.0        4   \n",
       "4             Almond_Delight  Ralston Purina    C     110.0        2   \n",
       "\n",
       "        Fat  Sodium  Dietary Fiber  Carbs    Sugars  Display Shelf  Potass  \\\n",
       "0  1.000000   130.0           10.0    5.0  6.000000            3.0   280.0   \n",
       "1  5.000000    15.0            2.0    8.0  8.000000            3.0   135.0   \n",
       "2  1.000000   260.0            9.0    7.0  5.000000            3.0   320.0   \n",
       "3  0.972222   140.0           14.0    8.0  7.246377            3.0   330.0   \n",
       "4  2.000000   200.0            1.0   14.0  8.000000            3.0     NaN   \n",
       "\n",
       "   Vitamins  Serving Size Weight  Cups per Serving  \n",
       "0        25                  1.0              0.33  \n",
       "1         0                  1.0             -1.00  \n",
       "2        25                  1.0              0.33  \n",
       "3        25                  1.0              0.50  \n",
       "4        25                  1.0              0.75  "
      ]
     },
     "execution_count": 138,
     "metadata": {},
     "output_type": "execute_result"
    }
   ],
   "source": [
    "DFCereal.head()"
   ]
  },
  {
   "cell_type": "code",
   "execution_count": 139,
   "metadata": {},
   "outputs": [
    {
     "data": {
      "text/plain": [
       "True"
      ]
     },
     "execution_count": 139,
     "metadata": {},
     "output_type": "execute_result"
    }
   ],
   "source": [
    "DFCereal[\"Display Shelf\"].isnull().any()"
   ]
  },
  {
   "cell_type": "code",
   "execution_count": 140,
   "metadata": {},
   "outputs": [
    {
     "data": {
      "text/plain": [
       "2.2142857142857144"
      ]
     },
     "execution_count": 140,
     "metadata": {},
     "output_type": "execute_result"
    }
   ],
   "source": [
    "media_shelf = DFCereal[\"Display Shelf\"].mean()\n",
    "media_shelf"
   ]
  },
  {
   "cell_type": "code",
   "execution_count": 141,
   "metadata": {},
   "outputs": [
    {
     "data": {
      "text/plain": [
       "False"
      ]
     },
     "execution_count": 141,
     "metadata": {},
     "output_type": "execute_result"
    }
   ],
   "source": [
    "DFCereal[\"Display Shelf\"] = DFCereal[\"Display Shelf\"].fillna(media_shelf)\n",
    "DFCereal[\"Display Shelf\"].isnull().any()"
   ]
  },
  {
   "cell_type": "code",
   "execution_count": 142,
   "metadata": {},
   "outputs": [
    {
     "data": {
      "text/plain": [
       "True"
      ]
     },
     "execution_count": 142,
     "metadata": {},
     "output_type": "execute_result"
    }
   ],
   "source": [
    "DFCereal[\"Potass\"].isnull().any()"
   ]
  },
  {
   "cell_type": "code",
   "execution_count": 144,
   "metadata": {},
   "outputs": [
    {
     "data": {
      "text/plain": [
       "95.27777777777777"
      ]
     },
     "execution_count": 144,
     "metadata": {},
     "output_type": "execute_result"
    }
   ],
   "source": [
    "media_potass = DFCereal['Potass'].mean()\n",
    "media_potass"
   ]
  },
  {
   "cell_type": "code",
   "execution_count": 145,
   "metadata": {},
   "outputs": [
    {
     "data": {
      "text/plain": [
       "False"
      ]
     },
     "execution_count": 145,
     "metadata": {},
     "output_type": "execute_result"
    }
   ],
   "source": [
    "DFCereal[\"Potass\"] = DFCereal[\"Potass\"].fillna(media_potass)\n",
    "DFCereal[\"Potass\"].isnull().any()"
   ]
  },
  {
   "cell_type": "code",
   "execution_count": 146,
   "metadata": {},
   "outputs": [
    {
     "data": {
      "text/plain": [
       "False"
      ]
     },
     "execution_count": 146,
     "metadata": {},
     "output_type": "execute_result"
    }
   ],
   "source": [
    "DFCereal[\"Vitamins\"].isnull().any()"
   ]
  },
  {
   "cell_type": "code",
   "execution_count": 147,
   "metadata": {},
   "outputs": [
    {
     "data": {
      "text/plain": [
       "False"
      ]
     },
     "execution_count": 147,
     "metadata": {},
     "output_type": "execute_result"
    }
   ],
   "source": [
    "DFCereal[\"Serving Size Weight\"].isnull().any()"
   ]
  },
  {
   "cell_type": "code",
   "execution_count": 148,
   "metadata": {},
   "outputs": [
    {
     "data": {
      "text/plain": [
       "False"
      ]
     },
     "execution_count": 148,
     "metadata": {},
     "output_type": "execute_result"
    }
   ],
   "source": [
    "DFCereal[\"Cups per Serving\"].isnull().any()"
   ]
  },
  {
   "cell_type": "code",
   "execution_count": null,
   "metadata": {},
   "outputs": [],
   "source": []
  }
 ],
 "metadata": {
  "kernelspec": {
   "display_name": "Python 3",
   "language": "python",
   "name": "python3"
  },
  "language_info": {
   "codemirror_mode": {
    "name": "ipython",
    "version": 3
   },
   "file_extension": ".py",
   "mimetype": "text/x-python",
   "name": "python",
   "nbconvert_exporter": "python",
   "pygments_lexer": "ipython3",
   "version": "3.12.2"
  }
 },
 "nbformat": 4,
 "nbformat_minor": 2
}
